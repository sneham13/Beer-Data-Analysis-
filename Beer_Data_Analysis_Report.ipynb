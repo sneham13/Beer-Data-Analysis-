{
 "cells": [
  {
   "cell_type": "markdown",
   "id": "77a3ad49-8919-4e0f-87e5-5bf6b5aac43d",
   "metadata": {
    "id": "77a3ad49-8919-4e0f-87e5-5bf6b5aac43d"
   },
   "source": [
    "<h1 style=\"font-size:40px;\"><center>BREWED AWAKENING - PROJECT REPORT</center></h1>"
   ]
  },
  {
   "cell_type": "markdown",
   "id": "ca3e7ff1-5c9a-4339-afe3-9fdad3683fdc",
   "metadata": {
    "id": "ca3e7ff1-5c9a-4339-afe3-9fdad3683fdc"
   },
   "source": [
    "<div style=\"display: flex;\">\n",
    "    <img src=\"https://drive.google.com/uc?export=download&id=1i5vSLa_82YJhvuvlX5CnjjOyhtlh_bOP\" alt=\"Alt text\" width=\"400\" height=\"300\" align = left>\n",
    "    <p style=\"flex-grow: 1;\">We are the Happy Hour Heroes driven by our mission to deliver the secrets to fine brew. \n",
    "        <br> <br>Our team members are: <br><br>\n",
    "    1) Abel Paul Thomas <br>\n",
    "    2) Divya Jain <br>\n",
    "    3) Sean Alcid <br>\n",
    "    4) Shuang Lu <br>\n",
    "    5) Siddhesh Mishra <br>\n",
    "    6) Sneha Murali <br>\n",
    "    7) Tirth Shah <br>\n",
    "    8) Venkatesh Tripuraneni <br><br>\n",
    "    </p>\n",
    "</div>"
   ]
  },
  {
   "cell_type": "markdown",
   "id": "af2938b5-8be6-499a-9ce8-699b06dc0918",
   "metadata": {
    "id": "af2938b5-8be6-499a-9ce8-699b06dc0918",
    "tags": []
   },
   "source": [
    "<img src=\"https://i.insider.com/5ca275a492c88609d52876d2?width=1000&format=jpeg&auto=webp\"  class=\"center\"/>"
   ]
  },
  {
   "cell_type": "markdown",
   "id": "9704f52e-cb40-4b0e-ad0b-ed4285ba9ffc",
   "metadata": {
    "id": "9704f52e-cb40-4b0e-ad0b-ed4285ba9ffc",
    "tags": []
   },
   "source": [
    "# __Introduction__:\n",
    "\n"
   ]
  },
  {
   "cell_type": "markdown",
   "id": "5fb4d301-6ea5-4d70-8fbe-de10a0772076",
   "metadata": {
    "id": "5fb4d301-6ea5-4d70-8fbe-de10a0772076",
    "tags": []
   },
   "source": [
    "The worldwide annual beer consumption averages around 28.2 gallons per person and there are 500 diverse beer options to choose from. Our goal, as we embark on a tasty trip, is to understand consumer preferences through in-depth beer review analysis. We're here to provide suggestions for both seasoned and newbie drinkers and brewers. This report is a brief but enjoyable story that adds an element of data-driven insights to the beer discovery experience. Cheers to the journey that lies ahead!\n"
   ]
  },
  {
   "cell_type": "markdown",
   "id": "95d4feba-0213-4f2a-8f95-986150e70f7d",
   "metadata": {
    "id": "95d4feba-0213-4f2a-8f95-986150e70f7d",
    "tags": []
   },
   "source": [
    "## Questions of Interest:\n",
    "\n",
    "**1. Impact of Alcohol Content on Beer Ratings?**\n",
    "- Understanding how alcohol content impacts beer ratings is crucial for breweries refining their offerings. \n",
    "- Consumer preferences vary, with some favoring higher alcohol for bold flavors, while others opt for lower content for sessionability. \n",
    "- Occasions and events influence these choices. This insight empowers breweries to align their brewing processes with consumer preferences, enhancing market appeal and potentially leading to higher ratings.\n",
    "\n",
    "**2. Which beer styles consistently resonate with consumers?**\n",
    "- By pinpointing consistently favored beer styles, breweries can align their offerings with consumer preferences, fostering satisfaction and loyalty. This knowledge also streamlines production, reducing waste and optimizing efficiency.\n",
    "\n",
    " \n",
    "**3. What features significantly contribute to a beer's success as a brand?**\n",
    "- Analyzing key elements that contribute to the success of a beer assists breweries in differentiating their brand, allowing them to stand out in a competitive market and attract a loyal consumer base.\n",
    "   \n",
    "**4. Can we pinpoint factors leading to poor reception of a beer brand?**\n",
    "   - Investigating the factors that contribute to poor reception might help breweries address quality concerns. This, in turn, promotes constant improvement and the production of superior products.   "
   ]
  },
  {
   "cell_type": "markdown",
   "id": "1cfaedce-6a25-4521-a23e-20e16b912258",
   "metadata": {
    "id": "1cfaedce-6a25-4521-a23e-20e16b912258",
    "tags": []
   },
   "source": [
    "## Dataset Description: Beer Reviews from Beer Advocate\n",
    "\n",
    "**Data Source:**\n",
    "Kaggle, a popular machine learning and data science platform, was used to gather the dataset. It comprises beer reviews gathered from Beer Advocate, a renowned blog site where visitors rate and comment on various beers.\n",
    "\n",
    "\n",
    "**Size:**\n",
    "The collection has 1.5 million findings, each of which covers details across 13 distinctive characteristics.\n",
    "\n",
    "\n",
    "**Timeframe:**\n",
    "The reviews range from 1996 to 2012, providing a thorough insight of beer preferences over a long period of time.\n",
    "\n",
    "**About the Data:**\n",
    "- **Brewery Information:**\n",
    "  - `brewery_id`: The unique ID of the brewery producing the beer.\n",
    "  - `brewery_name`: The name of the brewery.\n",
    "\n",
    "- **Review Details:**\n",
    "  - `review_time`: Date and time of the beer review.\n",
    "  - `review_overall`: Reviewer's overall rating of the beer on a scale of 0 to 5.\n",
    "  - `review_aroma`: Reviewer's rating of the beer's aroma on a scale of 0 to 5.\n",
    "  - `review_appearance`: Reviewer's rating of the beer's appearance on a scale of 0 to 5.\n",
    "  - `review_palate`: Reviewer's rating of the beer's palate on a scale of 0 to 5.\n",
    "  - `review_taste`: Reviewer's rating of the beer's taste on a scale of 0 to 5.\n",
    "\n",
    "- **User Information:**\n",
    "  - `review_profilename`: Reviewer's profile name.\n",
    "\n",
    "- **Beer Details:**\n",
    "  - `beer_style`: Style of beer.\n",
    "  - `beer_name`: The name of the beer.\n",
    "  - `beer_abv`: Alcohol by volume (ABV) of the beer.\n",
    "  - `beer_beerid`: Unique beer ID.\n",
    "\n",
    "**Acquisition Method:**\n",
    "The data was acquired via Kaggle and is based on user-generated content from Beer Advocate. Beers are rated and reviewed by users based on a variety of factors such as scent, appearance, palate, and flavor."
   ]
  },
  {
   "cell_type": "markdown",
   "id": "c5e1123e-270b-4a44-9c3a-c801ccd40a3c",
   "metadata": {
    "id": "c5e1123e-270b-4a44-9c3a-c801ccd40a3c"
   },
   "source": [
    "##  __Choice for Heavier Grading on Data Processing or Data Analysis__ :"
   ]
  },
  {
   "cell_type": "markdown",
   "id": "a45a680c-7062-4796-83fb-63306931c6ed",
   "metadata": {
    "id": "a45a680c-7062-4796-83fb-63306931c6ed"
   },
   "source": [
    "- We are choosing to be graded heavily on __DATA ANALYSIS__.\n",
    "- Our project places a strong emphasis on data analysis, focusing our efforts towards data refinement to enhance the quality of insights generated. \n",
    "- We have performed  sufficient data processing  for removing inconsitencies which cannot be utilized for analysis and carefully chosen the attributes from the cleaned the data to keep only the relevant observations.\n",
    "- The core motivation for prioritizing data analysis lies in our adoption of the k-means clustering machine learning algorithm. \n",
    "- Substantial efforts have been dedicated to preparing the data for clustering, involving encoding, scaling, and comprehensive profiling. \n",
    "- This strategic approach to data preparation is designed to extract valuable, data-driven insights that will effectively address our business questions. \n",
    "- The robustness of our data analysis process is pivotal to the success of our project."
   ]
  },
  {
   "cell_type": "markdown",
   "id": "d320eedb-f790-4812-937d-978068232ece",
   "metadata": {
    "id": "d320eedb-f790-4812-937d-978068232ece",
    "tags": []
   },
   "source": [
    "## __Data Processing__   :"
   ]
  },
  {
   "cell_type": "code",
   "execution_count": 1,
   "id": "151c75ec-6bd1-4687-91bb-b2ac4fc68093",
   "metadata": {
    "id": "151c75ec-6bd1-4687-91bb-b2ac4fc68093",
    "tags": []
   },
   "outputs": [],
   "source": [
    "# Importing required libraries\n",
    "\n",
    "import numpy as np\n",
    "import pandas as pd\n",
    "import seaborn as sns\n",
    "import matplotlib.pyplot as plt\n",
    "%matplotlib inline\n",
    "from sklearn.preprocessing import LabelEncoder\n",
    "from sklearn.preprocessing import StandardScaler\n",
    "from sklearn.decomposition import PCA\n",
    "from yellowbrick.cluster import KElbowVisualizer\n",
    "from sklearn.cluster import KMeans\n",
    "from mpl_toolkits.mplot3d import Axes3D\n",
    "from sklearn.cluster import AgglomerativeClustering\n",
    "from matplotlib.colors import ListedColormap\n",
    "from sklearn import metrics\n",
    "import warnings\n",
    "import sys\n",
    "if not sys.warnoptions:\n",
    "    warnings.simplefilter(\"ignore\")\n",
    "np.random.seed(42)\n",
    "from sklearn.preprocessing import MinMaxScaler\n",
    "from tabulate import tabulate"
   ]
  },
  {
   "cell_type": "markdown",
   "id": "fbe26d8d-e68c-4016-b035-3b2a2313aaa2",
   "metadata": {
    "id": "fbe26d8d-e68c-4016-b035-3b2a2313aaa2"
   },
   "source": [
    "## Loading The Dataset:"
   ]
  },
  {
   "cell_type": "markdown",
   "id": "b156f45e-0b0a-4720-acdf-ff5a518b3355",
   "metadata": {
    "id": "b156f45e-0b0a-4720-acdf-ff5a518b3355"
   },
   "source": [
    "We load the dataset to begin our initial analysis, and once the loading process is over, we carefully review the data."
   ]
  },
  {
   "cell_type": "code",
   "execution_count": 2,
   "id": "fab29ba6-c8cd-4401-be8d-e39612bd22cd",
   "metadata": {
    "id": "fab29ba6-c8cd-4401-be8d-e39612bd22cd",
    "tags": []
   },
   "outputs": [],
   "source": [
    "path=''\n",
    "\n",
    "beer_reviews = pd.read_csv(path +  \"beer_reviews.csv\", index_col = 'index')"
   ]
  },
  {
   "cell_type": "markdown",
   "id": "69a494ab-7975-4a51-bbc4-625efeac188e",
   "metadata": {
    "id": "69a494ab-7975-4a51-bbc4-625efeac188e"
   },
   "source": [
    "This stage seeks to pinpoint any discrepancies and define the extent of required cleaning and processing steps."
   ]
  },
  {
   "cell_type": "code",
   "execution_count": 3,
   "id": "7a643387-36dc-4abd-9b9e-6e9c7f23a0f2",
   "metadata": {
    "colab": {
     "base_uri": "https://localhost:8080/",
     "height": 678
    },
    "executionInfo": {
     "elapsed": 155,
     "status": "ok",
     "timestamp": 1698460822674,
     "user": {
      "displayName": "Abel Paul Thomas",
      "userId": "15109762256959037501"
     },
     "user_tz": 240
    },
    "id": "7a643387-36dc-4abd-9b9e-6e9c7f23a0f2",
    "outputId": "c16b6b21-a069-482b-972a-83fd8866d701",
    "tags": []
   },
   "outputs": [
    {
     "data": {
      "text/html": [
       "<div>\n",
       "<style scoped>\n",
       "    .dataframe tbody tr th:only-of-type {\n",
       "        vertical-align: middle;\n",
       "    }\n",
       "\n",
       "    .dataframe tbody tr th {\n",
       "        vertical-align: top;\n",
       "    }\n",
       "\n",
       "    .dataframe thead th {\n",
       "        text-align: right;\n",
       "    }\n",
       "</style>\n",
       "<table border=\"1\" class=\"dataframe\">\n",
       "  <thead>\n",
       "    <tr style=\"text-align: right;\">\n",
       "      <th></th>\n",
       "      <th>brewery_id</th>\n",
       "      <th>brewery_name</th>\n",
       "      <th>review_time</th>\n",
       "      <th>review_overall</th>\n",
       "      <th>review_aroma</th>\n",
       "      <th>review_appearance</th>\n",
       "      <th>review_profilename</th>\n",
       "      <th>beer_style</th>\n",
       "      <th>review_palate</th>\n",
       "      <th>review_taste</th>\n",
       "      <th>beer_name</th>\n",
       "      <th>beer_abv</th>\n",
       "      <th>beer_beerid</th>\n",
       "    </tr>\n",
       "    <tr>\n",
       "      <th>index</th>\n",
       "      <th></th>\n",
       "      <th></th>\n",
       "      <th></th>\n",
       "      <th></th>\n",
       "      <th></th>\n",
       "      <th></th>\n",
       "      <th></th>\n",
       "      <th></th>\n",
       "      <th></th>\n",
       "      <th></th>\n",
       "      <th></th>\n",
       "      <th></th>\n",
       "      <th></th>\n",
       "    </tr>\n",
       "  </thead>\n",
       "  <tbody>\n",
       "    <tr>\n",
       "      <th>0</th>\n",
       "      <td>10325</td>\n",
       "      <td>Vecchio Birraio</td>\n",
       "      <td>1234817823</td>\n",
       "      <td>1.5</td>\n",
       "      <td>2.0</td>\n",
       "      <td>2.5</td>\n",
       "      <td>stcules</td>\n",
       "      <td>Hefeweizen</td>\n",
       "      <td>1.5</td>\n",
       "      <td>1.5</td>\n",
       "      <td>Sausa Weizen</td>\n",
       "      <td>5.0</td>\n",
       "      <td>47986</td>\n",
       "    </tr>\n",
       "    <tr>\n",
       "      <th>1</th>\n",
       "      <td>10325</td>\n",
       "      <td>Vecchio Birraio</td>\n",
       "      <td>1235915097</td>\n",
       "      <td>3.0</td>\n",
       "      <td>2.5</td>\n",
       "      <td>3.0</td>\n",
       "      <td>stcules</td>\n",
       "      <td>English Strong Ale</td>\n",
       "      <td>3.0</td>\n",
       "      <td>3.0</td>\n",
       "      <td>Red Moon</td>\n",
       "      <td>6.2</td>\n",
       "      <td>48213</td>\n",
       "    </tr>\n",
       "    <tr>\n",
       "      <th>2</th>\n",
       "      <td>10325</td>\n",
       "      <td>Vecchio Birraio</td>\n",
       "      <td>1235916604</td>\n",
       "      <td>3.0</td>\n",
       "      <td>2.5</td>\n",
       "      <td>3.0</td>\n",
       "      <td>stcules</td>\n",
       "      <td>Foreign / Export Stout</td>\n",
       "      <td>3.0</td>\n",
       "      <td>3.0</td>\n",
       "      <td>Black Horse Black Beer</td>\n",
       "      <td>6.5</td>\n",
       "      <td>48215</td>\n",
       "    </tr>\n",
       "    <tr>\n",
       "      <th>3</th>\n",
       "      <td>10325</td>\n",
       "      <td>Vecchio Birraio</td>\n",
       "      <td>1234725145</td>\n",
       "      <td>3.0</td>\n",
       "      <td>3.0</td>\n",
       "      <td>3.5</td>\n",
       "      <td>stcules</td>\n",
       "      <td>German Pilsener</td>\n",
       "      <td>2.5</td>\n",
       "      <td>3.0</td>\n",
       "      <td>Sausa Pils</td>\n",
       "      <td>5.0</td>\n",
       "      <td>47969</td>\n",
       "    </tr>\n",
       "    <tr>\n",
       "      <th>4</th>\n",
       "      <td>1075</td>\n",
       "      <td>Caldera Brewing Company</td>\n",
       "      <td>1293735206</td>\n",
       "      <td>4.0</td>\n",
       "      <td>4.5</td>\n",
       "      <td>4.0</td>\n",
       "      <td>johnmichaelsen</td>\n",
       "      <td>American Double / Imperial IPA</td>\n",
       "      <td>4.0</td>\n",
       "      <td>4.5</td>\n",
       "      <td>Cauldron DIPA</td>\n",
       "      <td>7.7</td>\n",
       "      <td>64883</td>\n",
       "    </tr>\n",
       "    <tr>\n",
       "      <th>...</th>\n",
       "      <td>...</td>\n",
       "      <td>...</td>\n",
       "      <td>...</td>\n",
       "      <td>...</td>\n",
       "      <td>...</td>\n",
       "      <td>...</td>\n",
       "      <td>...</td>\n",
       "      <td>...</td>\n",
       "      <td>...</td>\n",
       "      <td>...</td>\n",
       "      <td>...</td>\n",
       "      <td>...</td>\n",
       "      <td>...</td>\n",
       "    </tr>\n",
       "    <tr>\n",
       "      <th>1586609</th>\n",
       "      <td>14359</td>\n",
       "      <td>The Defiant Brewing Company</td>\n",
       "      <td>1162684892</td>\n",
       "      <td>5.0</td>\n",
       "      <td>4.0</td>\n",
       "      <td>3.5</td>\n",
       "      <td>maddogruss</td>\n",
       "      <td>Pumpkin Ale</td>\n",
       "      <td>4.0</td>\n",
       "      <td>4.0</td>\n",
       "      <td>The Horseman's Ale</td>\n",
       "      <td>5.2</td>\n",
       "      <td>33061</td>\n",
       "    </tr>\n",
       "    <tr>\n",
       "      <th>1586610</th>\n",
       "      <td>14359</td>\n",
       "      <td>The Defiant Brewing Company</td>\n",
       "      <td>1161048566</td>\n",
       "      <td>4.0</td>\n",
       "      <td>5.0</td>\n",
       "      <td>2.5</td>\n",
       "      <td>yelterdow</td>\n",
       "      <td>Pumpkin Ale</td>\n",
       "      <td>2.0</td>\n",
       "      <td>4.0</td>\n",
       "      <td>The Horseman's Ale</td>\n",
       "      <td>5.2</td>\n",
       "      <td>33061</td>\n",
       "    </tr>\n",
       "    <tr>\n",
       "      <th>1586611</th>\n",
       "      <td>14359</td>\n",
       "      <td>The Defiant Brewing Company</td>\n",
       "      <td>1160702513</td>\n",
       "      <td>4.5</td>\n",
       "      <td>3.5</td>\n",
       "      <td>3.0</td>\n",
       "      <td>TongoRad</td>\n",
       "      <td>Pumpkin Ale</td>\n",
       "      <td>3.5</td>\n",
       "      <td>4.0</td>\n",
       "      <td>The Horseman's Ale</td>\n",
       "      <td>5.2</td>\n",
       "      <td>33061</td>\n",
       "    </tr>\n",
       "    <tr>\n",
       "      <th>1586612</th>\n",
       "      <td>14359</td>\n",
       "      <td>The Defiant Brewing Company</td>\n",
       "      <td>1160023044</td>\n",
       "      <td>4.0</td>\n",
       "      <td>4.5</td>\n",
       "      <td>4.5</td>\n",
       "      <td>dherling</td>\n",
       "      <td>Pumpkin Ale</td>\n",
       "      <td>4.5</td>\n",
       "      <td>4.5</td>\n",
       "      <td>The Horseman's Ale</td>\n",
       "      <td>5.2</td>\n",
       "      <td>33061</td>\n",
       "    </tr>\n",
       "    <tr>\n",
       "      <th>1586613</th>\n",
       "      <td>14359</td>\n",
       "      <td>The Defiant Brewing Company</td>\n",
       "      <td>1160005319</td>\n",
       "      <td>5.0</td>\n",
       "      <td>4.5</td>\n",
       "      <td>4.5</td>\n",
       "      <td>cbl2</td>\n",
       "      <td>Pumpkin Ale</td>\n",
       "      <td>4.5</td>\n",
       "      <td>4.5</td>\n",
       "      <td>The Horseman's Ale</td>\n",
       "      <td>5.2</td>\n",
       "      <td>33061</td>\n",
       "    </tr>\n",
       "  </tbody>\n",
       "</table>\n",
       "<p>1586614 rows × 13 columns</p>\n",
       "</div>"
      ],
      "text/plain": [
       "         brewery_id                 brewery_name  review_time  review_overall  \\\n",
       "index                                                                           \n",
       "0             10325              Vecchio Birraio   1234817823             1.5   \n",
       "1             10325              Vecchio Birraio   1235915097             3.0   \n",
       "2             10325              Vecchio Birraio   1235916604             3.0   \n",
       "3             10325              Vecchio Birraio   1234725145             3.0   \n",
       "4              1075      Caldera Brewing Company   1293735206             4.0   \n",
       "...             ...                          ...          ...             ...   \n",
       "1586609       14359  The Defiant Brewing Company   1162684892             5.0   \n",
       "1586610       14359  The Defiant Brewing Company   1161048566             4.0   \n",
       "1586611       14359  The Defiant Brewing Company   1160702513             4.5   \n",
       "1586612       14359  The Defiant Brewing Company   1160023044             4.0   \n",
       "1586613       14359  The Defiant Brewing Company   1160005319             5.0   \n",
       "\n",
       "         review_aroma  review_appearance review_profilename  \\\n",
       "index                                                         \n",
       "0                 2.0                2.5            stcules   \n",
       "1                 2.5                3.0            stcules   \n",
       "2                 2.5                3.0            stcules   \n",
       "3                 3.0                3.5            stcules   \n",
       "4                 4.5                4.0     johnmichaelsen   \n",
       "...               ...                ...                ...   \n",
       "1586609           4.0                3.5         maddogruss   \n",
       "1586610           5.0                2.5          yelterdow   \n",
       "1586611           3.5                3.0           TongoRad   \n",
       "1586612           4.5                4.5           dherling   \n",
       "1586613           4.5                4.5               cbl2   \n",
       "\n",
       "                             beer_style  review_palate  review_taste  \\\n",
       "index                                                                  \n",
       "0                            Hefeweizen            1.5           1.5   \n",
       "1                    English Strong Ale            3.0           3.0   \n",
       "2                Foreign / Export Stout            3.0           3.0   \n",
       "3                       German Pilsener            2.5           3.0   \n",
       "4        American Double / Imperial IPA            4.0           4.5   \n",
       "...                                 ...            ...           ...   \n",
       "1586609                     Pumpkin Ale            4.0           4.0   \n",
       "1586610                     Pumpkin Ale            2.0           4.0   \n",
       "1586611                     Pumpkin Ale            3.5           4.0   \n",
       "1586612                     Pumpkin Ale            4.5           4.5   \n",
       "1586613                     Pumpkin Ale            4.5           4.5   \n",
       "\n",
       "                      beer_name  beer_abv  beer_beerid  \n",
       "index                                                   \n",
       "0                  Sausa Weizen       5.0        47986  \n",
       "1                      Red Moon       6.2        48213  \n",
       "2        Black Horse Black Beer       6.5        48215  \n",
       "3                    Sausa Pils       5.0        47969  \n",
       "4                 Cauldron DIPA       7.7        64883  \n",
       "...                         ...       ...          ...  \n",
       "1586609      The Horseman's Ale       5.2        33061  \n",
       "1586610      The Horseman's Ale       5.2        33061  \n",
       "1586611      The Horseman's Ale       5.2        33061  \n",
       "1586612      The Horseman's Ale       5.2        33061  \n",
       "1586613      The Horseman's Ale       5.2        33061  \n",
       "\n",
       "[1586614 rows x 13 columns]"
      ]
     },
     "execution_count": 3,
     "metadata": {},
     "output_type": "execute_result"
    }
   ],
   "source": [
    "# Preview of the loaded dataset\n",
    "beer_reviews"
   ]
  },
  {
   "cell_type": "markdown",
   "id": "af0f83fd",
   "metadata": {
    "id": "af0f83fd"
   },
   "source": [
    "## Exploratory Data Analysis:"
   ]
  },
  {
   "cell_type": "markdown",
   "id": "6125648e",
   "metadata": {
    "id": "6125648e"
   },
   "source": [
    "### Information on columns in the dataset"
   ]
  },
  {
   "cell_type": "markdown",
   "id": "1abd468f-2c24-4ae3-8ef4-39bcf2ab4bd0",
   "metadata": {
    "id": "1abd468f-2c24-4ae3-8ef4-39bcf2ab4bd0",
    "tags": []
   },
   "source": [
    "We aim to understand the data better by examining data types and the count of non-null values in each of the 13 columns.\n"
   ]
  },
  {
   "cell_type": "code",
   "execution_count": 4,
   "id": "cc0957a4-5126-460d-8fcc-6503bcc70d21",
   "metadata": {
    "id": "cc0957a4-5126-460d-8fcc-6503bcc70d21",
    "outputId": "2cd10e8a-e061-417f-c3ad-290580d3d846",
    "tags": []
   },
   "outputs": [
    {
     "name": "stdout",
     "output_type": "stream",
     "text": [
      "<class 'pandas.core.frame.DataFrame'>\n",
      "Int64Index: 1586614 entries, 0 to 1586613\n",
      "Data columns (total 13 columns):\n",
      " #   Column              Non-Null Count    Dtype  \n",
      "---  ------              --------------    -----  \n",
      " 0   brewery_id          1586614 non-null  int64  \n",
      " 1   brewery_name        1586599 non-null  object \n",
      " 2   review_time         1586614 non-null  int64  \n",
      " 3   review_overall      1586614 non-null  float64\n",
      " 4   review_aroma        1586614 non-null  float64\n",
      " 5   review_appearance   1586614 non-null  float64\n",
      " 6   review_profilename  1586266 non-null  object \n",
      " 7   beer_style          1586614 non-null  object \n",
      " 8   review_palate       1586614 non-null  float64\n",
      " 9   review_taste        1586614 non-null  float64\n",
      " 10  beer_name           1586614 non-null  object \n",
      " 11  beer_abv            1518829 non-null  float64\n",
      " 12  beer_beerid         1586614 non-null  int64  \n",
      "dtypes: float64(6), int64(3), object(4)\n",
      "memory usage: 169.5+ MB\n"
     ]
    }
   ],
   "source": [
    "beer_reviews.info()"
   ]
  },
  {
   "cell_type": "markdown",
   "id": "b3e03264-b1f6-43ca-b275-b7bac1dfeee1",
   "metadata": {
    "id": "b3e03264-b1f6-43ca-b275-b7bac1dfeee1",
    "tags": []
   },
   "source": [
    "\n",
    "The majority of the columns consist of float and int values."
   ]
  },
  {
   "cell_type": "code",
   "execution_count": 5,
   "id": "a60141b7-9bcb-4298-bfb8-770430231482",
   "metadata": {
    "id": "a60141b7-9bcb-4298-bfb8-770430231482",
    "outputId": "32cf8d45-f36c-46c7-a5e3-a14b4563bd6d",
    "tags": []
   },
   "outputs": [
    {
     "data": {
      "text/plain": [
       "brewery_id                0\n",
       "brewery_name             15\n",
       "review_time               0\n",
       "review_overall            0\n",
       "review_aroma              0\n",
       "review_appearance         0\n",
       "review_profilename      348\n",
       "beer_style                0\n",
       "review_palate             0\n",
       "review_taste              0\n",
       "beer_name                 0\n",
       "beer_abv              67785\n",
       "beer_beerid               0\n",
       "dtype: int64"
      ]
     },
     "execution_count": 5,
     "metadata": {},
     "output_type": "execute_result"
    }
   ],
   "source": [
    "beer_reviews.isnull().sum()"
   ]
  },
  {
   "cell_type": "markdown",
   "id": "a2f1f855-565d-4ab3-b504-1e604c669b4a",
   "metadata": {
    "id": "a2f1f855-565d-4ab3-b504-1e604c669b4a"
   },
   "source": [
    "Notably, there are null values in the Beer Abbreviation, Brewery Name, and Review Profile Name columns."
   ]
  },
  {
   "cell_type": "markdown",
   "id": "511b33f1-2fc3-449a-9c39-4205b0ac70c9",
   "metadata": {
    "id": "511b33f1-2fc3-449a-9c39-4205b0ac70c9"
   },
   "source": [
    "### Descriptive Statistics of the dataset"
   ]
  },
  {
   "cell_type": "markdown",
   "id": "3381f643-e388-4115-aa3d-a38f0ccd12ff",
   "metadata": {
    "id": "3381f643-e388-4115-aa3d-a38f0ccd12ff"
   },
   "source": [
    "Next, we try to learn about the various statistics for each numerical column. It gives a quick overview of the distribution of numerical data in our DataFrame."
   ]
  },
  {
   "cell_type": "code",
   "execution_count": 6,
   "id": "420c6dc2",
   "metadata": {
    "id": "420c6dc2",
    "outputId": "c9cc5253-942c-4bb7-b42e-ab28b1709c26",
    "scrolled": true
   },
   "outputs": [
    {
     "data": {
      "text/html": [
       "<div>\n",
       "<style scoped>\n",
       "    .dataframe tbody tr th:only-of-type {\n",
       "        vertical-align: middle;\n",
       "    }\n",
       "\n",
       "    .dataframe tbody tr th {\n",
       "        vertical-align: top;\n",
       "    }\n",
       "\n",
       "    .dataframe thead th {\n",
       "        text-align: right;\n",
       "    }\n",
       "</style>\n",
       "<table border=\"1\" class=\"dataframe\">\n",
       "  <thead>\n",
       "    <tr style=\"text-align: right;\">\n",
       "      <th></th>\n",
       "      <th>brewery_id</th>\n",
       "      <th>review_time</th>\n",
       "      <th>review_overall</th>\n",
       "      <th>review_aroma</th>\n",
       "      <th>review_appearance</th>\n",
       "      <th>review_palate</th>\n",
       "      <th>review_taste</th>\n",
       "      <th>beer_abv</th>\n",
       "      <th>beer_beerid</th>\n",
       "    </tr>\n",
       "  </thead>\n",
       "  <tbody>\n",
       "    <tr>\n",
       "      <th>count</th>\n",
       "      <td>1.586614e+06</td>\n",
       "      <td>1.586614e+06</td>\n",
       "      <td>1.586614e+06</td>\n",
       "      <td>1.586614e+06</td>\n",
       "      <td>1.586614e+06</td>\n",
       "      <td>1.586614e+06</td>\n",
       "      <td>1.586614e+06</td>\n",
       "      <td>1.518829e+06</td>\n",
       "      <td>1.586614e+06</td>\n",
       "    </tr>\n",
       "    <tr>\n",
       "      <th>mean</th>\n",
       "      <td>3.130099e+03</td>\n",
       "      <td>1.224089e+09</td>\n",
       "      <td>3.815581e+00</td>\n",
       "      <td>3.735636e+00</td>\n",
       "      <td>3.841642e+00</td>\n",
       "      <td>3.743701e+00</td>\n",
       "      <td>3.792860e+00</td>\n",
       "      <td>7.042387e+00</td>\n",
       "      <td>2.171279e+04</td>\n",
       "    </tr>\n",
       "    <tr>\n",
       "      <th>std</th>\n",
       "      <td>5.578104e+03</td>\n",
       "      <td>7.654427e+07</td>\n",
       "      <td>7.206219e-01</td>\n",
       "      <td>6.976167e-01</td>\n",
       "      <td>6.160928e-01</td>\n",
       "      <td>6.822184e-01</td>\n",
       "      <td>7.319696e-01</td>\n",
       "      <td>2.322526e+00</td>\n",
       "      <td>2.181834e+04</td>\n",
       "    </tr>\n",
       "    <tr>\n",
       "      <th>min</th>\n",
       "      <td>1.000000e+00</td>\n",
       "      <td>8.406720e+08</td>\n",
       "      <td>0.000000e+00</td>\n",
       "      <td>1.000000e+00</td>\n",
       "      <td>0.000000e+00</td>\n",
       "      <td>1.000000e+00</td>\n",
       "      <td>1.000000e+00</td>\n",
       "      <td>1.000000e-02</td>\n",
       "      <td>3.000000e+00</td>\n",
       "    </tr>\n",
       "    <tr>\n",
       "      <th>25%</th>\n",
       "      <td>1.430000e+02</td>\n",
       "      <td>1.173224e+09</td>\n",
       "      <td>3.500000e+00</td>\n",
       "      <td>3.500000e+00</td>\n",
       "      <td>3.500000e+00</td>\n",
       "      <td>3.500000e+00</td>\n",
       "      <td>3.500000e+00</td>\n",
       "      <td>5.200000e+00</td>\n",
       "      <td>1.717000e+03</td>\n",
       "    </tr>\n",
       "    <tr>\n",
       "      <th>50%</th>\n",
       "      <td>4.290000e+02</td>\n",
       "      <td>1.239203e+09</td>\n",
       "      <td>4.000000e+00</td>\n",
       "      <td>4.000000e+00</td>\n",
       "      <td>4.000000e+00</td>\n",
       "      <td>4.000000e+00</td>\n",
       "      <td>4.000000e+00</td>\n",
       "      <td>6.500000e+00</td>\n",
       "      <td>1.390600e+04</td>\n",
       "    </tr>\n",
       "    <tr>\n",
       "      <th>75%</th>\n",
       "      <td>2.372000e+03</td>\n",
       "      <td>1.288568e+09</td>\n",
       "      <td>4.500000e+00</td>\n",
       "      <td>4.000000e+00</td>\n",
       "      <td>4.000000e+00</td>\n",
       "      <td>4.000000e+00</td>\n",
       "      <td>4.500000e+00</td>\n",
       "      <td>8.500000e+00</td>\n",
       "      <td>3.944100e+04</td>\n",
       "    </tr>\n",
       "    <tr>\n",
       "      <th>max</th>\n",
       "      <td>2.800300e+04</td>\n",
       "      <td>1.326285e+09</td>\n",
       "      <td>5.000000e+00</td>\n",
       "      <td>5.000000e+00</td>\n",
       "      <td>5.000000e+00</td>\n",
       "      <td>5.000000e+00</td>\n",
       "      <td>5.000000e+00</td>\n",
       "      <td>5.770000e+01</td>\n",
       "      <td>7.731700e+04</td>\n",
       "    </tr>\n",
       "  </tbody>\n",
       "</table>\n",
       "</div>"
      ],
      "text/plain": [
       "         brewery_id   review_time  review_overall  review_aroma  \\\n",
       "count  1.586614e+06  1.586614e+06    1.586614e+06  1.586614e+06   \n",
       "mean   3.130099e+03  1.224089e+09    3.815581e+00  3.735636e+00   \n",
       "std    5.578104e+03  7.654427e+07    7.206219e-01  6.976167e-01   \n",
       "min    1.000000e+00  8.406720e+08    0.000000e+00  1.000000e+00   \n",
       "25%    1.430000e+02  1.173224e+09    3.500000e+00  3.500000e+00   \n",
       "50%    4.290000e+02  1.239203e+09    4.000000e+00  4.000000e+00   \n",
       "75%    2.372000e+03  1.288568e+09    4.500000e+00  4.000000e+00   \n",
       "max    2.800300e+04  1.326285e+09    5.000000e+00  5.000000e+00   \n",
       "\n",
       "       review_appearance  review_palate  review_taste      beer_abv  \\\n",
       "count       1.586614e+06   1.586614e+06  1.586614e+06  1.518829e+06   \n",
       "mean        3.841642e+00   3.743701e+00  3.792860e+00  7.042387e+00   \n",
       "std         6.160928e-01   6.822184e-01  7.319696e-01  2.322526e+00   \n",
       "min         0.000000e+00   1.000000e+00  1.000000e+00  1.000000e-02   \n",
       "25%         3.500000e+00   3.500000e+00  3.500000e+00  5.200000e+00   \n",
       "50%         4.000000e+00   4.000000e+00  4.000000e+00  6.500000e+00   \n",
       "75%         4.000000e+00   4.000000e+00  4.500000e+00  8.500000e+00   \n",
       "max         5.000000e+00   5.000000e+00  5.000000e+00  5.770000e+01   \n",
       "\n",
       "        beer_beerid  \n",
       "count  1.586614e+06  \n",
       "mean   2.171279e+04  \n",
       "std    2.181834e+04  \n",
       "min    3.000000e+00  \n",
       "25%    1.717000e+03  \n",
       "50%    1.390600e+04  \n",
       "75%    3.944100e+04  \n",
       "max    7.731700e+04  "
      ]
     },
     "execution_count": 6,
     "metadata": {},
     "output_type": "execute_result"
    }
   ],
   "source": [
    "beer_reviews.describe()"
   ]
  },
  {
   "cell_type": "markdown",
   "id": "fbb60b50",
   "metadata": {
    "id": "fbb60b50"
   },
   "source": [
    "### Checking for null values"
   ]
  },
  {
   "cell_type": "code",
   "execution_count": 7,
   "id": "c843cc56",
   "metadata": {
    "id": "c843cc56",
    "outputId": "6c0ef64d-c911-4b49-843c-3689f0688669"
   },
   "outputs": [
    {
     "name": "stdout",
     "output_type": "stream",
     "text": [
      "4.3% of values in column 'beer_abv' are null.\n"
     ]
    }
   ],
   "source": [
    "# Total number of null values of the alcohol percentage column\n",
    "beer_alcohol_null_values= beer_reviews['beer_abv'].isnull().sum()\n",
    "\n",
    "# Total number of rows in the dataset\n",
    "num_rows=beer_reviews.shape[0]\n",
    "\n",
    "# Percentage of beer alcholo percentage values that are null\n",
    "beer_abv_na_perc = (beer_alcohol_null_values / num_rows) * 100\n",
    "print(f\"{beer_abv_na_perc:.1f}% of values in column 'beer_abv' are null.\")"
   ]
  },
  {
   "cell_type": "markdown",
   "id": "3176afbc",
   "metadata": {
    "id": "3176afbc"
   },
   "source": [
    "We see that there are some null values in the columns 'brewery_name', 'review_profilename' and 'beer_abv'.\n",
    "\n",
    "For the purpose of our analysis, the 'brewery_name' and 'review_profilename' are irrelevant.\n",
    "\n",
    "We are only concerned with the attributes of the beer. Hence, the missing values in these two columns can simply be marked as 'Unknown'.\n",
    "\n",
    "In the case of missing values in beer_abv, we can handle this issue by simply dropping these rows from the data set since they account for only 4.3% of the total rows."
   ]
  },
  {
   "cell_type": "markdown",
   "id": "90cc17fc",
   "metadata": {
    "id": "90cc17fc"
   },
   "source": [
    "### Treating the missing values"
   ]
  },
  {
   "cell_type": "markdown",
   "id": "2dd8a8c2",
   "metadata": {
    "id": "2dd8a8c2"
   },
   "source": [
    "#### 1. Replacing missing 'brewery_name' and 'review_profilename' values with 'unknown'"
   ]
  },
  {
   "cell_type": "markdown",
   "id": "f1415dd6-87ca-4999-a6fa-446de283d11b",
   "metadata": {
    "id": "f1415dd6-87ca-4999-a6fa-446de283d11b",
    "tags": []
   },
   "source": [
    "We are intentionally fabricating data  i.e. replacing missing beer names with the word 'unknown' so that we can still use other attributes from those rows to gain insights."
   ]
  },
  {
   "cell_type": "code",
   "execution_count": 8,
   "id": "844d35a7",
   "metadata": {
    "id": "844d35a7"
   },
   "outputs": [],
   "source": [
    "# Using the function fillna to replace null values with 'Unknown'\n",
    "beer_reviews['brewery_name'].fillna('Unknown', inplace=True)\n",
    "beer_reviews['review_profilename'].fillna('Unknown', inplace=True)"
   ]
  },
  {
   "cell_type": "markdown",
   "id": "b8139219",
   "metadata": {
    "id": "b8139219"
   },
   "source": [
    "#### 2. Dropping  null values in the 'beer_abv' column"
   ]
  },
  {
   "cell_type": "markdown",
   "id": "3ba1a2fe-d183-4d87-bbd4-0777a1759c59",
   "metadata": {
    "id": "3ba1a2fe-d183-4d87-bbd4-0777a1759c59"
   },
   "source": [
    "Since beer_abv is an important characteristic for our analysis and there is no accurate information available over the internet for alcohol by volume for those corresponding beers, we drop rows will null beer_abv"
   ]
  },
  {
   "cell_type": "code",
   "execution_count": 9,
   "id": "b1205c6b",
   "metadata": {
    "id": "b1205c6b",
    "outputId": "cc5e7910-54f0-4068-a2d3-1e1c87b64da5",
    "tags": []
   },
   "outputs": [
    {
     "data": {
      "text/plain": [
       "brewery_id            0\n",
       "brewery_name          0\n",
       "review_time           0\n",
       "review_overall        0\n",
       "review_aroma          0\n",
       "review_appearance     0\n",
       "review_profilename    0\n",
       "beer_style            0\n",
       "review_palate         0\n",
       "review_taste          0\n",
       "beer_name             0\n",
       "beer_abv              0\n",
       "beer_beerid           0\n",
       "dtype: int64"
      ]
     },
     "execution_count": 9,
     "metadata": {},
     "output_type": "execute_result"
    }
   ],
   "source": [
    "beer_reviews.dropna(inplace = True)\n",
    "beer_reviews.isnull().sum()"
   ]
  },
  {
   "cell_type": "markdown",
   "id": "373767ed",
   "metadata": {
    "id": "373767ed"
   },
   "source": [
    "#### 3. Correcting the data type and format of 'review_time' column\n"
   ]
  },
  {
   "cell_type": "markdown",
   "id": "e7fe4bb5-b9a4-403e-8c2b-3791fb87bf8c",
   "metadata": {
    "id": "e7fe4bb5-b9a4-403e-8c2b-3791fb87bf8c",
    "tags": []
   },
   "source": [
    "\n",
    "The data has the column 'Review Time' having time in unix timestamp format.\n",
    "\n",
    "We convert it to the standard 'YYYY-MM-DD' format."
   ]
  },
  {
   "cell_type": "code",
   "execution_count": 10,
   "id": "aa540453",
   "metadata": {
    "id": "aa540453",
    "tags": []
   },
   "outputs": [],
   "source": [
    "# Converting the unix timestamp data to the standard datetime format\n",
    "beer_reviews['review_time'] = pd.to_datetime(beer_reviews[ 'review_time' ], unit = 's')"
   ]
  },
  {
   "cell_type": "code",
   "execution_count": 11,
   "id": "3704b7e1",
   "metadata": {
    "id": "3704b7e1",
    "outputId": "6ccccf74-d2fd-449b-c2a5-c503267eb4a9",
    "tags": []
   },
   "outputs": [
    {
     "data": {
      "text/html": [
       "<div>\n",
       "<style scoped>\n",
       "    .dataframe tbody tr th:only-of-type {\n",
       "        vertical-align: middle;\n",
       "    }\n",
       "\n",
       "    .dataframe tbody tr th {\n",
       "        vertical-align: top;\n",
       "    }\n",
       "\n",
       "    .dataframe thead th {\n",
       "        text-align: right;\n",
       "    }\n",
       "</style>\n",
       "<table border=\"1\" class=\"dataframe\">\n",
       "  <thead>\n",
       "    <tr style=\"text-align: right;\">\n",
       "      <th></th>\n",
       "      <th>brewery_id</th>\n",
       "      <th>brewery_name</th>\n",
       "      <th>review_time</th>\n",
       "      <th>review_overall</th>\n",
       "      <th>review_aroma</th>\n",
       "      <th>review_appearance</th>\n",
       "      <th>review_profilename</th>\n",
       "      <th>beer_style</th>\n",
       "      <th>review_palate</th>\n",
       "      <th>review_taste</th>\n",
       "      <th>beer_name</th>\n",
       "      <th>beer_abv</th>\n",
       "      <th>beer_beerid</th>\n",
       "    </tr>\n",
       "    <tr>\n",
       "      <th>index</th>\n",
       "      <th></th>\n",
       "      <th></th>\n",
       "      <th></th>\n",
       "      <th></th>\n",
       "      <th></th>\n",
       "      <th></th>\n",
       "      <th></th>\n",
       "      <th></th>\n",
       "      <th></th>\n",
       "      <th></th>\n",
       "      <th></th>\n",
       "      <th></th>\n",
       "      <th></th>\n",
       "    </tr>\n",
       "  </thead>\n",
       "  <tbody>\n",
       "    <tr>\n",
       "      <th>0</th>\n",
       "      <td>10325</td>\n",
       "      <td>Vecchio Birraio</td>\n",
       "      <td>2009-02-16 20:57:03</td>\n",
       "      <td>1.5</td>\n",
       "      <td>2.0</td>\n",
       "      <td>2.5</td>\n",
       "      <td>stcules</td>\n",
       "      <td>Hefeweizen</td>\n",
       "      <td>1.5</td>\n",
       "      <td>1.5</td>\n",
       "      <td>Sausa Weizen</td>\n",
       "      <td>5.0</td>\n",
       "      <td>47986</td>\n",
       "    </tr>\n",
       "    <tr>\n",
       "      <th>1</th>\n",
       "      <td>10325</td>\n",
       "      <td>Vecchio Birraio</td>\n",
       "      <td>2009-03-01 13:44:57</td>\n",
       "      <td>3.0</td>\n",
       "      <td>2.5</td>\n",
       "      <td>3.0</td>\n",
       "      <td>stcules</td>\n",
       "      <td>English Strong Ale</td>\n",
       "      <td>3.0</td>\n",
       "      <td>3.0</td>\n",
       "      <td>Red Moon</td>\n",
       "      <td>6.2</td>\n",
       "      <td>48213</td>\n",
       "    </tr>\n",
       "    <tr>\n",
       "      <th>2</th>\n",
       "      <td>10325</td>\n",
       "      <td>Vecchio Birraio</td>\n",
       "      <td>2009-03-01 14:10:04</td>\n",
       "      <td>3.0</td>\n",
       "      <td>2.5</td>\n",
       "      <td>3.0</td>\n",
       "      <td>stcules</td>\n",
       "      <td>Foreign / Export Stout</td>\n",
       "      <td>3.0</td>\n",
       "      <td>3.0</td>\n",
       "      <td>Black Horse Black Beer</td>\n",
       "      <td>6.5</td>\n",
       "      <td>48215</td>\n",
       "    </tr>\n",
       "    <tr>\n",
       "      <th>3</th>\n",
       "      <td>10325</td>\n",
       "      <td>Vecchio Birraio</td>\n",
       "      <td>2009-02-15 19:12:25</td>\n",
       "      <td>3.0</td>\n",
       "      <td>3.0</td>\n",
       "      <td>3.5</td>\n",
       "      <td>stcules</td>\n",
       "      <td>German Pilsener</td>\n",
       "      <td>2.5</td>\n",
       "      <td>3.0</td>\n",
       "      <td>Sausa Pils</td>\n",
       "      <td>5.0</td>\n",
       "      <td>47969</td>\n",
       "    </tr>\n",
       "    <tr>\n",
       "      <th>4</th>\n",
       "      <td>1075</td>\n",
       "      <td>Caldera Brewing Company</td>\n",
       "      <td>2010-12-30 18:53:26</td>\n",
       "      <td>4.0</td>\n",
       "      <td>4.5</td>\n",
       "      <td>4.0</td>\n",
       "      <td>johnmichaelsen</td>\n",
       "      <td>American Double / Imperial IPA</td>\n",
       "      <td>4.0</td>\n",
       "      <td>4.5</td>\n",
       "      <td>Cauldron DIPA</td>\n",
       "      <td>7.7</td>\n",
       "      <td>64883</td>\n",
       "    </tr>\n",
       "  </tbody>\n",
       "</table>\n",
       "</div>"
      ],
      "text/plain": [
       "       brewery_id             brewery_name         review_time  \\\n",
       "index                                                            \n",
       "0           10325          Vecchio Birraio 2009-02-16 20:57:03   \n",
       "1           10325          Vecchio Birraio 2009-03-01 13:44:57   \n",
       "2           10325          Vecchio Birraio 2009-03-01 14:10:04   \n",
       "3           10325          Vecchio Birraio 2009-02-15 19:12:25   \n",
       "4            1075  Caldera Brewing Company 2010-12-30 18:53:26   \n",
       "\n",
       "       review_overall  review_aroma  review_appearance review_profilename  \\\n",
       "index                                                                       \n",
       "0                 1.5           2.0                2.5            stcules   \n",
       "1                 3.0           2.5                3.0            stcules   \n",
       "2                 3.0           2.5                3.0            stcules   \n",
       "3                 3.0           3.0                3.5            stcules   \n",
       "4                 4.0           4.5                4.0     johnmichaelsen   \n",
       "\n",
       "                           beer_style  review_palate  review_taste  \\\n",
       "index                                                                \n",
       "0                          Hefeweizen            1.5           1.5   \n",
       "1                  English Strong Ale            3.0           3.0   \n",
       "2              Foreign / Export Stout            3.0           3.0   \n",
       "3                     German Pilsener            2.5           3.0   \n",
       "4      American Double / Imperial IPA            4.0           4.5   \n",
       "\n",
       "                    beer_name  beer_abv  beer_beerid  \n",
       "index                                                 \n",
       "0                Sausa Weizen       5.0        47986  \n",
       "1                    Red Moon       6.2        48213  \n",
       "2      Black Horse Black Beer       6.5        48215  \n",
       "3                  Sausa Pils       5.0        47969  \n",
       "4               Cauldron DIPA       7.7        64883  "
      ]
     },
     "execution_count": 11,
     "metadata": {},
     "output_type": "execute_result"
    }
   ],
   "source": [
    "beer_reviews.head()"
   ]
  },
  {
   "cell_type": "markdown",
   "id": "da70252f",
   "metadata": {
    "id": "da70252f"
   },
   "source": [
    "#### 4. Handling duplicate reviews\n",
    "\n",
    "Upon inspecting the dataset, we see that some of the users have reviewed the same beer more than once.\n",
    "\n",
    "This is potentially due to the fact the opinions and preferences for a person can change over time.\n",
    "\n",
    "Therefore, to deal with such instances, we can simply take the latest review made by that person which would reflect their most recent take on the beer."
   ]
  },
  {
   "cell_type": "code",
   "execution_count": 12,
   "id": "b8ead46f",
   "metadata": {
    "id": "b8ead46f",
    "outputId": "6dfc2df7-cbdd-43d2-9b91-04e2ddaaccaf",
    "tags": []
   },
   "outputs": [
    {
     "data": {
      "text/html": [
       "<div>\n",
       "<style scoped>\n",
       "    .dataframe tbody tr th:only-of-type {\n",
       "        vertical-align: middle;\n",
       "    }\n",
       "\n",
       "    .dataframe tbody tr th {\n",
       "        vertical-align: top;\n",
       "    }\n",
       "\n",
       "    .dataframe thead th {\n",
       "        text-align: right;\n",
       "    }\n",
       "</style>\n",
       "<table border=\"1\" class=\"dataframe\">\n",
       "  <thead>\n",
       "    <tr style=\"text-align: right;\">\n",
       "      <th></th>\n",
       "      <th>review_profilename</th>\n",
       "      <th>beer_name</th>\n",
       "      <th>beer_beerid</th>\n",
       "      <th>review_overall</th>\n",
       "    </tr>\n",
       "    <tr>\n",
       "      <th>index</th>\n",
       "      <th></th>\n",
       "      <th></th>\n",
       "      <th></th>\n",
       "      <th></th>\n",
       "    </tr>\n",
       "  </thead>\n",
       "  <tbody>\n",
       "    <tr>\n",
       "      <th>187</th>\n",
       "      <td>barleywinefiend</td>\n",
       "      <td>Caldera Pale Ale</td>\n",
       "      <td>25414</td>\n",
       "      <td>4.0</td>\n",
       "    </tr>\n",
       "    <tr>\n",
       "      <th>199</th>\n",
       "      <td>barleywinefiend</td>\n",
       "      <td>Caldera Pale Ale</td>\n",
       "      <td>25414</td>\n",
       "      <td>4.0</td>\n",
       "    </tr>\n",
       "    <tr>\n",
       "      <th>389</th>\n",
       "      <td>barleywinefiend</td>\n",
       "      <td>Caldera IPA</td>\n",
       "      <td>10784</td>\n",
       "      <td>4.0</td>\n",
       "    </tr>\n",
       "    <tr>\n",
       "      <th>426</th>\n",
       "      <td>barleywinefiend</td>\n",
       "      <td>Caldera IPA</td>\n",
       "      <td>10784</td>\n",
       "      <td>3.5</td>\n",
       "    </tr>\n",
       "    <tr>\n",
       "      <th>804</th>\n",
       "      <td>flexabull</td>\n",
       "      <td>Ashland Amber</td>\n",
       "      <td>10785</td>\n",
       "      <td>4.0</td>\n",
       "    </tr>\n",
       "    <tr>\n",
       "      <th>...</th>\n",
       "      <td>...</td>\n",
       "      <td>...</td>\n",
       "      <td>...</td>\n",
       "      <td>...</td>\n",
       "    </tr>\n",
       "    <tr>\n",
       "      <th>1585815</th>\n",
       "      <td>rayjay</td>\n",
       "      <td>Drake's Drakonic Imperial Stout</td>\n",
       "      <td>12172</td>\n",
       "      <td>4.5</td>\n",
       "    </tr>\n",
       "    <tr>\n",
       "      <th>1586013</th>\n",
       "      <td>Georgiabeer</td>\n",
       "      <td>Drake's 1500 Pale Ale</td>\n",
       "      <td>25095</td>\n",
       "      <td>4.0</td>\n",
       "    </tr>\n",
       "    <tr>\n",
       "      <th>1586027</th>\n",
       "      <td>Georgiabeer</td>\n",
       "      <td>Drake's 1500 Pale Ale</td>\n",
       "      <td>25095</td>\n",
       "      <td>4.0</td>\n",
       "    </tr>\n",
       "    <tr>\n",
       "      <th>1586580</th>\n",
       "      <td>EPseja</td>\n",
       "      <td>O'Defiant Stout</td>\n",
       "      <td>36388</td>\n",
       "      <td>5.0</td>\n",
       "    </tr>\n",
       "    <tr>\n",
       "      <th>1586581</th>\n",
       "      <td>EPseja</td>\n",
       "      <td>O'Defiant Stout</td>\n",
       "      <td>36388</td>\n",
       "      <td>5.0</td>\n",
       "    </tr>\n",
       "  </tbody>\n",
       "</table>\n",
       "<p>28415 rows × 4 columns</p>\n",
       "</div>"
      ],
      "text/plain": [
       "        review_profilename                        beer_name  beer_beerid  \\\n",
       "index                                                                      \n",
       "187        barleywinefiend                 Caldera Pale Ale        25414   \n",
       "199        barleywinefiend                 Caldera Pale Ale        25414   \n",
       "389        barleywinefiend                      Caldera IPA        10784   \n",
       "426        barleywinefiend                      Caldera IPA        10784   \n",
       "804              flexabull                    Ashland Amber        10785   \n",
       "...                    ...                              ...          ...   \n",
       "1585815             rayjay  Drake's Drakonic Imperial Stout        12172   \n",
       "1586013        Georgiabeer            Drake's 1500 Pale Ale        25095   \n",
       "1586027        Georgiabeer            Drake's 1500 Pale Ale        25095   \n",
       "1586580             EPseja                  O'Defiant Stout        36388   \n",
       "1586581             EPseja                  O'Defiant Stout        36388   \n",
       "\n",
       "         review_overall  \n",
       "index                    \n",
       "187                 4.0  \n",
       "199                 4.0  \n",
       "389                 4.0  \n",
       "426                 3.5  \n",
       "804                 4.0  \n",
       "...                 ...  \n",
       "1585815             4.5  \n",
       "1586013             4.0  \n",
       "1586027             4.0  \n",
       "1586580             5.0  \n",
       "1586581             5.0  \n",
       "\n",
       "[28415 rows x 4 columns]"
      ]
     },
     "execution_count": 12,
     "metadata": {},
     "output_type": "execute_result"
    }
   ],
   "source": [
    "# Obtaining the list of reviews that have the same combination of profile name and beer id more than once\n",
    "beer_reviews.loc[beer_reviews.duplicated(['review_profilename','beer_beerid'],keep=False)]\\\n",
    "                                        [['review_profilename','beer_name','beer_beerid','review_overall']]"
   ]
  },
  {
   "cell_type": "markdown",
   "id": "88a05613",
   "metadata": {
    "id": "88a05613"
   },
   "source": [
    " As seen from the above scenario, there are multiple reviews by a single user for the same beer ID or beer name.\n",
    "\n",
    " Hence, these duplicates are dropped and only their latest reviews have been kept."
   ]
  },
  {
   "cell_type": "code",
   "execution_count": 13,
   "id": "e30fb84c",
   "metadata": {
    "id": "e30fb84c",
    "tags": []
   },
   "outputs": [],
   "source": [
    "# Sorting chronologically\n",
    "beer_reviews = beer_reviews.sort_values('review_time',ascending=False)\n",
    "\n",
    "# Removing the duplicates of the same person reviewing the same beer and from the same brewery\n",
    "beer_reviews = beer_reviews.drop_duplicates(subset = ['review_profilename','beer_beerid'], keep='first')"
   ]
  },
  {
   "cell_type": "code",
   "execution_count": 14,
   "id": "b2054a8e",
   "metadata": {
    "id": "b2054a8e",
    "outputId": "ad5c309e-d1f8-43f4-ad5a-f68cf53c3ace",
    "tags": []
   },
   "outputs": [
    {
     "data": {
      "text/html": [
       "<div>\n",
       "<style scoped>\n",
       "    .dataframe tbody tr th:only-of-type {\n",
       "        vertical-align: middle;\n",
       "    }\n",
       "\n",
       "    .dataframe tbody tr th {\n",
       "        vertical-align: top;\n",
       "    }\n",
       "\n",
       "    .dataframe thead th {\n",
       "        text-align: right;\n",
       "    }\n",
       "</style>\n",
       "<table border=\"1\" class=\"dataframe\">\n",
       "  <thead>\n",
       "    <tr style=\"text-align: right;\">\n",
       "      <th></th>\n",
       "      <th>brewery_id</th>\n",
       "      <th>brewery_name</th>\n",
       "      <th>review_time</th>\n",
       "      <th>review_overall</th>\n",
       "      <th>review_aroma</th>\n",
       "      <th>review_appearance</th>\n",
       "      <th>review_profilename</th>\n",
       "      <th>beer_style</th>\n",
       "      <th>review_palate</th>\n",
       "      <th>review_taste</th>\n",
       "      <th>beer_name</th>\n",
       "      <th>beer_abv</th>\n",
       "      <th>beer_beerid</th>\n",
       "    </tr>\n",
       "    <tr>\n",
       "      <th>index</th>\n",
       "      <th></th>\n",
       "      <th></th>\n",
       "      <th></th>\n",
       "      <th></th>\n",
       "      <th></th>\n",
       "      <th></th>\n",
       "      <th></th>\n",
       "      <th></th>\n",
       "      <th></th>\n",
       "      <th></th>\n",
       "      <th></th>\n",
       "      <th></th>\n",
       "      <th></th>\n",
       "    </tr>\n",
       "  </thead>\n",
       "  <tbody>\n",
       "    <tr>\n",
       "      <th>551371</th>\n",
       "      <td>22194</td>\n",
       "      <td>Flat Tail Brewing</td>\n",
       "      <td>2012-01-11 12:35:48</td>\n",
       "      <td>4.0</td>\n",
       "      <td>4.0</td>\n",
       "      <td>4.0</td>\n",
       "      <td>Rifugium</td>\n",
       "      <td>American Pale Ale (APA)</td>\n",
       "      <td>4.0</td>\n",
       "      <td>4.0</td>\n",
       "      <td>Flat Tail Bourbon Pale</td>\n",
       "      <td>6.0</td>\n",
       "      <td>66257</td>\n",
       "    </tr>\n",
       "    <tr>\n",
       "      <th>551392</th>\n",
       "      <td>22194</td>\n",
       "      <td>Flat Tail Brewing</td>\n",
       "      <td>2012-01-11 12:29:30</td>\n",
       "      <td>3.5</td>\n",
       "      <td>3.5</td>\n",
       "      <td>3.0</td>\n",
       "      <td>Rifugium</td>\n",
       "      <td>Kölsch</td>\n",
       "      <td>3.5</td>\n",
       "      <td>3.5</td>\n",
       "      <td>Tailgater</td>\n",
       "      <td>5.5</td>\n",
       "      <td>73600</td>\n",
       "    </tr>\n",
       "    <tr>\n",
       "      <th>400524</th>\n",
       "      <td>694</td>\n",
       "      <td>Tröegs Brewing Company</td>\n",
       "      <td>2012-01-11 10:10:56</td>\n",
       "      <td>4.0</td>\n",
       "      <td>4.5</td>\n",
       "      <td>4.0</td>\n",
       "      <td>Lawl3ss</td>\n",
       "      <td>Oatmeal Stout</td>\n",
       "      <td>4.0</td>\n",
       "      <td>4.0</td>\n",
       "      <td>Tröegs Java Head Stout</td>\n",
       "      <td>7.5</td>\n",
       "      <td>52128</td>\n",
       "    </tr>\n",
       "    <tr>\n",
       "      <th>1153730</th>\n",
       "      <td>454</td>\n",
       "      <td>Arcadia Brewing Company</td>\n",
       "      <td>2012-01-11 09:44:09</td>\n",
       "      <td>4.0</td>\n",
       "      <td>4.0</td>\n",
       "      <td>4.0</td>\n",
       "      <td>cquinn17</td>\n",
       "      <td>Scotch Ale / Wee Heavy</td>\n",
       "      <td>3.5</td>\n",
       "      <td>3.5</td>\n",
       "      <td>Arcadia Loch Down Scotch Ale</td>\n",
       "      <td>8.0</td>\n",
       "      <td>6384</td>\n",
       "    </tr>\n",
       "    <tr>\n",
       "      <th>562035</th>\n",
       "      <td>423</td>\n",
       "      <td>Boulevard Brewing Co.</td>\n",
       "      <td>2012-01-11 09:34:14</td>\n",
       "      <td>4.5</td>\n",
       "      <td>4.0</td>\n",
       "      <td>4.0</td>\n",
       "      <td>libbey</td>\n",
       "      <td>Quadrupel (Quad)</td>\n",
       "      <td>4.5</td>\n",
       "      <td>4.5</td>\n",
       "      <td>The Sixth Glass</td>\n",
       "      <td>10.5</td>\n",
       "      <td>39621</td>\n",
       "    </tr>\n",
       "  </tbody>\n",
       "</table>\n",
       "</div>"
      ],
      "text/plain": [
       "         brewery_id             brewery_name         review_time  \\\n",
       "index                                                              \n",
       "551371        22194        Flat Tail Brewing 2012-01-11 12:35:48   \n",
       "551392        22194        Flat Tail Brewing 2012-01-11 12:29:30   \n",
       "400524          694   Tröegs Brewing Company 2012-01-11 10:10:56   \n",
       "1153730         454  Arcadia Brewing Company 2012-01-11 09:44:09   \n",
       "562035          423    Boulevard Brewing Co. 2012-01-11 09:34:14   \n",
       "\n",
       "         review_overall  review_aroma  review_appearance review_profilename  \\\n",
       "index                                                                         \n",
       "551371              4.0           4.0                4.0           Rifugium   \n",
       "551392              3.5           3.5                3.0           Rifugium   \n",
       "400524              4.0           4.5                4.0            Lawl3ss   \n",
       "1153730             4.0           4.0                4.0           cquinn17   \n",
       "562035              4.5           4.0                4.0             libbey   \n",
       "\n",
       "                      beer_style  review_palate  review_taste  \\\n",
       "index                                                           \n",
       "551371   American Pale Ale (APA)            4.0           4.0   \n",
       "551392                    Kölsch            3.5           3.5   \n",
       "400524             Oatmeal Stout            4.0           4.0   \n",
       "1153730   Scotch Ale / Wee Heavy            3.5           3.5   \n",
       "562035          Quadrupel (Quad)            4.5           4.5   \n",
       "\n",
       "                            beer_name  beer_abv  beer_beerid  \n",
       "index                                                         \n",
       "551371         Flat Tail Bourbon Pale       6.0        66257  \n",
       "551392                      Tailgater       5.5        73600  \n",
       "400524         Tröegs Java Head Stout       7.5        52128  \n",
       "1153730  Arcadia Loch Down Scotch Ale       8.0         6384  \n",
       "562035                The Sixth Glass      10.5        39621  "
      ]
     },
     "execution_count": 14,
     "metadata": {},
     "output_type": "execute_result"
    }
   ],
   "source": [
    "beer_reviews.head()"
   ]
  },
  {
   "cell_type": "markdown",
   "id": "a7cc9203",
   "metadata": {
    "id": "a7cc9203"
   },
   "source": [
    "#### 5. Spread of review scores across attributes\n",
    "\n",
    " Our data source consists of review scores or ratings for specific attributes of the beer such as aroma, appearance, palate and taste.\n",
    "\n",
    " We also have an overall rating for each beer. These ratings are on a scale of 0 to 5.\n",
    "\n",
    " By utilising a box plot, we can understand how these scores are spread out across each attribute."
   ]
  },
  {
   "cell_type": "code",
   "execution_count": 15,
   "id": "57ad5b1e-bb3b-466e-9e9a-e0ed816449cf",
   "metadata": {
    "tags": []
   },
   "outputs": [
    {
     "name": "stdout",
     "output_type": "stream",
     "text": [
      "╒═══════╤══════════════════╤════════════════╤═════════════════════╤═════════════════╤════════════════╕\n",
      "│       │   \u001b[1mreview_overall\u001b[0m │   \u001b[1mreview_aroma\u001b[0m │   \u001b[1mreview_appearance\u001b[0m │   \u001b[1mreview_palate\u001b[0m │   \u001b[1mreview_taste\u001b[0m │\n",
      "╞═══════╪══════════════════╪════════════════╪═════════════════════╪═════════════════╪════════════════╡\n",
      "│ count │      1.50437e+06 │    1.50437e+06 │         1.50437e+06 │     1.50437e+06 │    1.50437e+06 │\n",
      "├───────┼──────────────────┼────────────────┼─────────────────────┼─────────────────┼────────────────┤\n",
      "│ mean  │      3.82227     │    3.74511     │         3.84954     │     3.75241     │    3.80242     │\n",
      "├───────┼──────────────────┼────────────────┼─────────────────────┼─────────────────┼────────────────┤\n",
      "│ std   │      0.717392    │    0.69515     │         0.614151    │     0.67925     │    0.728659    │\n",
      "├───────┼──────────────────┼────────────────┼─────────────────────┼─────────────────┼────────────────┤\n",
      "│ min   │      0           │    1           │         0           │     1           │    1           │\n",
      "├───────┼──────────────────┼────────────────┼─────────────────────┼─────────────────┼────────────────┤\n",
      "│ 25%   │      3.5         │    3.5         │         3.5         │     3.5         │    3.5         │\n",
      "├───────┼──────────────────┼────────────────┼─────────────────────┼─────────────────┼────────────────┤\n",
      "│ 50%   │      4           │    4           │         4           │     4           │    4           │\n",
      "├───────┼──────────────────┼────────────────┼─────────────────────┼─────────────────┼────────────────┤\n",
      "│ 75%   │      4.5         │    4           │         4           │     4           │    4.5         │\n",
      "├───────┼──────────────────┼────────────────┼─────────────────────┼─────────────────┼────────────────┤\n",
      "│ max   │      5           │    5           │         5           │     5           │    5           │\n",
      "╘═══════╧══════════════════╧════════════════╧═════════════════════╧═════════════════╧════════════════╛\n"
     ]
    }
   ],
   "source": [
    "# Creating a summary table for spread of review scores across attributes\n",
    "summary_table = beer_reviews[['review_overall', 'review_aroma', 'review_appearance', 'review_palate', 'review_taste']].describe()\n",
    "headers_highlighted = [f\"\\033[1m{header}\\033[0m\" for header in summary_table.columns]\n",
    "summary_table.columns = headers_highlighted\n",
    "# Displaying summary statistics\n",
    "table_str = tabulate(summary_table, headers='keys', tablefmt='fancy_grid')\n",
    "print(table_str)\n"
   ]
  },
  {
   "cell_type": "markdown",
   "id": "1e04e529",
   "metadata": {
    "id": "1e04e529"
   },
   "source": [
    "### Observations\n",
    "\n",
    "- Reviews for **aroma, appearance and palate** tend to have a **lower disparity** in ratings as compared to **overall review and taste.**\n",
    "\n",
    "- The distribution of reviews for **taste and overall review** seem to be almost **identical**, which suggests that taste might be the most influencing factor in determining the overall score of the beer.\n",
    "\n",
    "- **Taste** seems to be the **most sensitive attribute**, wherein people seem to have varying reviews for it as compared to aroma appearance and palate."
   ]
  },
  {
   "cell_type": "markdown",
   "id": "971d00cd",
   "metadata": {
    "id": "971d00cd"
   },
   "source": [
    "#### 6. Finding The Most Reviewed Beers"
   ]
  },
  {
   "cell_type": "markdown",
   "id": "cab6e579-edea-4745-b3f8-95d72f07a5d0",
   "metadata": {
    "id": "cab6e579-edea-4745-b3f8-95d72f07a5d0"
   },
   "source": [
    "Before understanding the relationship between the different attributes in our dataset for recommending a beer.\n",
    "\n",
    "We would want to know how many reviews beers typically get based on the beer style and beer name.\n",
    "\n",
    "The rationale behind this is that we are eventually going to recommend beers, it’s probably not a great idea to recommend a beer that’s only been reviewed 1 time–even if it got a perfect review.\n",
    "\n",
    "We can use the this information further along in our analysis and check if it correlates with the most liked/ disliked beers."
   ]
  },
  {
   "cell_type": "code",
   "execution_count": 16,
   "id": "b0fcc774-c46e-4601-9032-ff73e4a51e4c",
   "metadata": {
    "tags": []
   },
   "outputs": [
    {
     "name": "stdout",
     "output_type": "stream",
     "text": [
      "╒═════════════════════════════════════╤═════════╕\n",
      "│ Beer Name                           │   Count │\n",
      "╞═════════════════════════════════════╪═════════╡\n",
      "│ 90 Minute IPA                       │    \u001b[1m3207\u001b[0m │\n",
      "├─────────────────────────────────────┼─────────┤\n",
      "│ Old Rasputin Russian Imperial Stout │    3039 │\n",
      "├─────────────────────────────────────┼─────────┤\n",
      "│ Sierra Nevada Celebration Ale       │    2930 │\n",
      "├─────────────────────────────────────┼─────────┤\n",
      "│ India Pale Ale                      │    2926 │\n",
      "├─────────────────────────────────────┼─────────┤\n",
      "│ Stone Ruination IPA                 │    2645 │\n",
      "╘═════════════════════════════════════╧═════════╛\n"
     ]
    }
   ],
   "source": [
    "# Determining the distribution of top 5 beers and their review counts\n",
    "top_beer_names = beer_reviews['beer_name'].value_counts().head(5)\n",
    "beer_names_df = pd.DataFrame({'Beer Name': top_beer_names.index, 'Count': top_beer_names.values})\n",
    "beer_names_df['Count'] = beer_names_df['Count'].astype(str).apply(lambda x: f\"\\033[1m{x}\\033[0m\" if x == str(top_beer_names.max()) else x)\n",
    "table_str = tabulate(beer_names_df, headers='keys', tablefmt='fancy_grid', showindex=False)\n",
    "print(table_str)"
   ]
  },
  {
   "cell_type": "markdown",
   "id": "fc2000c8",
   "metadata": {
    "id": "fc2000c8"
   },
   "source": [
    "### Observations\n",
    "\n",
    "- The chart depicts the most reviewed beers by name.\n",
    "\n",
    "- 90 Minute IPA is the most reviewed beer with a count of 3290 reviews.\n",
    "\n",
    "- Two Hearted Ale is the least reviewed beer with a count of 2728 reviews.\n",
    "\n"
   ]
  },
  {
   "cell_type": "markdown",
   "id": "f38660c5-5e5b-42fc-9a82-ac6419e822f4",
   "metadata": {
    "id": "f38660c5-5e5b-42fc-9a82-ac6419e822f4"
   },
   "source": [
    "#### 7. Finding The Most Reviewed Beers By Beer Style"
   ]
  },
  {
   "cell_type": "code",
   "execution_count": 17,
   "id": "1b546fa1-330b-4031-987c-ea8af410d648",
   "metadata": {
    "tags": []
   },
   "outputs": [
    {
     "name": "stdout",
     "output_type": "stream",
     "text": [
      "╒══════════════════════════════════╤═════════╕\n",
      "│ Beer Style                       │   Count │\n",
      "╞══════════════════════════════════╪═════════╡\n",
      "│ American IPA                     │  \u001b[1m111309\u001b[0m │\n",
      "├──────────────────────────────────┼─────────┤\n",
      "│ American Double / Imperial IPA   │   83842 │\n",
      "├──────────────────────────────────┼─────────┤\n",
      "│ American Pale Ale (APA)          │   57432 │\n",
      "├──────────────────────────────────┼─────────┤\n",
      "│ Russian Imperial Stout           │   52862 │\n",
      "├──────────────────────────────────┼─────────┤\n",
      "│ American Double / Imperial Stout │   49592 │\n",
      "├──────────────────────────────────┼─────────┤\n",
      "│ American Porter                  │   46303 │\n",
      "├──────────────────────────────────┼─────────┤\n",
      "│ American Amber / Red Ale         │   41292 │\n",
      "├──────────────────────────────────┼─────────┤\n",
      "│ Belgian Strong Dark Ale          │   37281 │\n",
      "├──────────────────────────────────┼─────────┤\n",
      "│ Fruit / Vegetable Beer           │   31834 │\n",
      "├──────────────────────────────────┼─────────┤\n",
      "│ Belgian Strong Pale Ale          │   31183 │\n",
      "╘══════════════════════════════════╧═════════╛\n"
     ]
    }
   ],
   "source": [
    "# Top most reviewed beers by style \n",
    "top_styles = beer_reviews['beer_style'].value_counts().head(10)\n",
    "table_data = [(style, count) for style, count in zip(top_styles.index, top_styles.values)]\n",
    "headers = [\"Beer Style\", \"Count\"]\n",
    "topmost_index = top_styles.idxmax()\n",
    "table_data_highlighted = [(style, f\"\\033[1m{count}\\033[0m\") if style == topmost_index else (style, count) for style, count in table_data]\n",
    "table = tabulate(table_data_highlighted, headers=headers, tablefmt=\"fancy_grid\")\n",
    "print(table)\n"
   ]
  },
  {
   "cell_type": "markdown",
   "id": "a90fcacf",
   "metadata": {
    "id": "a90fcacf"
   },
   "source": [
    "### Observations\n",
    "\n",
    "- The table depicts the most reviewed beers by style.\n",
    "\n",
    "- American IPA is the most reviewed beer style with 117586 reviews.\n",
    "\n",
    "- American Double/ Imperial Stout is the least reviewed beer style with 50705 reviews.,"
   ]
  },
  {
   "cell_type": "markdown",
   "id": "d389ad9d",
   "metadata": {
    "id": "d389ad9d"
   },
   "source": [
    "#### 8. Analyzing The Alcohol by Volume (ABV) Atrribute  "
   ]
  },
  {
   "cell_type": "markdown",
   "id": "ccf10997-b034-4178-84d0-98ac6c390d75",
   "metadata": {
    "id": "ccf10997-b034-4178-84d0-98ac6c390d75"
   },
   "source": [
    "The beer_abv column provides a beer's alcohol by volume percentage.\n",
    "\n",
    "We perform some preliminary analysis to understand how the beer_abv is spread across the beers in our dataset and how it influences the overall score for the beer."
   ]
  },
  {
   "cell_type": "code",
   "execution_count": 18,
   "id": "cd3b5513-9fd4-4228-9dc9-7e0009c9d468",
   "metadata": {
    "tags": []
   },
   "outputs": [
    {
     "name": "stdout",
     "output_type": "stream",
     "text": [
      "╒═════════════╤══════════════╕\n",
      "│ Statistic   │        Value │\n",
      "╞═════════════╪══════════════╡\n",
      "│ count       │  1.50437e+06 │\n",
      "├─────────────┼──────────────┤\n",
      "│ mean        │  7.04336     │\n",
      "├─────────────┼──────────────┤\n",
      "│ std         │  2.32327     │\n",
      "├─────────────┼──────────────┤\n",
      "│ min         │  0.01        │\n",
      "├─────────────┼──────────────┤\n",
      "│ 25%         │  5.2         │\n",
      "├─────────────┼──────────────┤\n",
      "│ 50%         │  6.5         │\n",
      "├─────────────┼──────────────┤\n",
      "│ 75%         │  8.5         │\n",
      "├─────────────┼──────────────┤\n",
      "│ max         │ 57.7         │\n",
      "╘═════════════╧══════════════╛\n"
     ]
    }
   ],
   "source": [
    "# Analyzing ABV \n",
    "abv_summary = beer_reviews['beer_abv'].describe()\n",
    "abv_summary_df = pd.DataFrame({\n",
    "    'Statistic': abv_summary.index,\n",
    "    'Value': abv_summary.values\n",
    "})\n",
    "\n",
    "table_str = tabulate(abv_summary_df, headers='keys', tablefmt='fancy_grid', showindex=False)\n",
    "\n",
    "print(table_str)"
   ]
  },
  {
   "cell_type": "code",
   "execution_count": 19,
   "id": "893546a0",
   "metadata": {
    "id": "893546a0",
    "outputId": "7f1695c3-f13a-41c2-933a-194fa2cf94cc",
    "tags": []
   },
   "outputs": [
    {
     "data": {
      "image/png": "[encoded data removed]",
      "text/plain": [
       "<Figure size 400x500 with 1 Axes>"
      ]
     },
     "metadata": {},
     "output_type": "display_data"
    }
   ],
   "source": [
    "# Creating a boxplplot for visualizing alcohol by volume percentage\n",
    "plt.figure(figsize=(4, 5))\n",
    "plt.grid(linestyle='-')\n",
    "beer_reviews.boxplot(column='beer_abv', vert=True)\n",
    "plt.show()"
   ]
  },
  {
   "cell_type": "markdown",
   "id": "2e01c8d2",
   "metadata": {
    "id": "2e01c8d2"
   },
   "source": [
    "### Observations\n",
    "\n",
    "- Through this boxplot, we observe that the majority of the beers have an Alochol by Volume between the range of 1 to 13 (approximately).\n",
    "\n",
    "- Furthermore, there are occurrences of beers with ABV values exceeding and falling below the typical range mentioned earlier."
   ]
  },
  {
   "cell_type": "markdown",
   "id": "e36dd132",
   "metadata": {
    "id": "e36dd132"
   },
   "source": [
    "#### 9. Beer's ABV against Overall Review Score\n",
    "\n",
    "By comparing the beers with highest and lowest ABVs to their overall review scores, we could get a basic understanding of the influence of ABV on a beer's overall score.\n",
    "\n",
    "We start by comparing these two attributes by beer name."
   ]
  },
  {
   "cell_type": "markdown",
   "id": "cb97c3f0",
   "metadata": {
    "id": "cb97c3f0"
   },
   "source": [
    "#### Beer ABV vs Overall Review Score by Beer Name"
   ]
  },
  {
   "cell_type": "code",
   "execution_count": 20,
   "id": "47548028",
   "metadata": {
    "id": "47548028",
    "outputId": "6a3df475-938d-4b2e-8396-f3f4169c39bd",
    "tags": []
   },
   "outputs": [
    {
     "data": {
      "text/html": [
       "<div>\n",
       "<style scoped>\n",
       "    .dataframe tbody tr th:only-of-type {\n",
       "        vertical-align: middle;\n",
       "    }\n",
       "\n",
       "    .dataframe tbody tr th {\n",
       "        vertical-align: top;\n",
       "    }\n",
       "\n",
       "    .dataframe thead th {\n",
       "        text-align: right;\n",
       "    }\n",
       "</style>\n",
       "<table border=\"1\" class=\"dataframe\">\n",
       "  <thead>\n",
       "    <tr style=\"text-align: right;\">\n",
       "      <th></th>\n",
       "      <th>beer_name</th>\n",
       "      <th>beer_abv</th>\n",
       "      <th>review_overall</th>\n",
       "    </tr>\n",
       "    <tr>\n",
       "      <th>index</th>\n",
       "      <th></th>\n",
       "      <th></th>\n",
       "      <th></th>\n",
       "    </tr>\n",
       "  </thead>\n",
       "  <tbody>\n",
       "    <tr>\n",
       "      <th>12919</th>\n",
       "      <td>Schorschbräu Schorschbock 57%</td>\n",
       "      <td>57.70</td>\n",
       "      <td>4.0</td>\n",
       "    </tr>\n",
       "    <tr>\n",
       "      <th>12939</th>\n",
       "      <td>Schorschbräu Schorschbock 43%</td>\n",
       "      <td>43.00</td>\n",
       "      <td>4.0</td>\n",
       "    </tr>\n",
       "    <tr>\n",
       "      <th>746343</th>\n",
       "      <td>Sink The Bismarck!</td>\n",
       "      <td>41.00</td>\n",
       "      <td>1.0</td>\n",
       "    </tr>\n",
       "    <tr>\n",
       "      <th>12942</th>\n",
       "      <td>Schorschbräu Schorschbock 40%</td>\n",
       "      <td>39.44</td>\n",
       "      <td>3.0</td>\n",
       "    </tr>\n",
       "    <tr>\n",
       "      <th>996154</th>\n",
       "      <td>Black Damnation VI - Messy</td>\n",
       "      <td>39.00</td>\n",
       "      <td>5.0</td>\n",
       "    </tr>\n",
       "    <tr>\n",
       "      <th>748356</th>\n",
       "      <td>Tactical Nuclear Penguin</td>\n",
       "      <td>32.00</td>\n",
       "      <td>4.5</td>\n",
       "    </tr>\n",
       "    <tr>\n",
       "      <th>12918</th>\n",
       "      <td>Schorschbräu Schorschbock 31%</td>\n",
       "      <td>30.86</td>\n",
       "      <td>3.5</td>\n",
       "    </tr>\n",
       "    <tr>\n",
       "      <th>1042334</th>\n",
       "      <td>Dave</td>\n",
       "      <td>29.00</td>\n",
       "      <td>5.0</td>\n",
       "    </tr>\n",
       "    <tr>\n",
       "      <th>746422</th>\n",
       "      <td>Ghost Deer</td>\n",
       "      <td>28.00</td>\n",
       "      <td>4.0</td>\n",
       "    </tr>\n",
       "    <tr>\n",
       "      <th>293846</th>\n",
       "      <td>Samuel Adams Utopias</td>\n",
       "      <td>27.00</td>\n",
       "      <td>4.0</td>\n",
       "    </tr>\n",
       "  </tbody>\n",
       "</table>\n",
       "</div>"
      ],
      "text/plain": [
       "                             beer_name  beer_abv  review_overall\n",
       "index                                                           \n",
       "12919    Schorschbräu Schorschbock 57%     57.70             4.0\n",
       "12939    Schorschbräu Schorschbock 43%     43.00             4.0\n",
       "746343              Sink The Bismarck!     41.00             1.0\n",
       "12942    Schorschbräu Schorschbock 40%     39.44             3.0\n",
       "996154      Black Damnation VI - Messy     39.00             5.0\n",
       "748356        Tactical Nuclear Penguin     32.00             4.5\n",
       "12918    Schorschbräu Schorschbock 31%     30.86             3.5\n",
       "1042334                           Dave     29.00             5.0\n",
       "746422                      Ghost Deer     28.00             4.0\n",
       "293846            Samuel Adams Utopias     27.00             4.0"
      ]
     },
     "execution_count": 20,
     "metadata": {},
     "output_type": "execute_result"
    }
   ],
   "source": [
    "# Determining unique beers with the highest ABV\n",
    "top5_beers = beer_reviews[['beer_name', 'beer_abv', 'review_overall']]\n",
    "top5_beers_sorted = top5_beers.sort_values(by='beer_abv', ascending=False)\n",
    "top5_beers_sorted.drop_duplicates('beer_name').head(10)"
   ]
  },
  {
   "cell_type": "code",
   "execution_count": 21,
   "id": "6fe0eba9",
   "metadata": {
    "id": "6fe0eba9",
    "outputId": "471ea8cd-922f-46c6-e7c1-52f18449a4ff",
    "tags": []
   },
   "outputs": [
    {
     "data": {
      "text/html": [
       "<div>\n",
       "<style scoped>\n",
       "    .dataframe tbody tr th:only-of-type {\n",
       "        vertical-align: middle;\n",
       "    }\n",
       "\n",
       "    .dataframe tbody tr th {\n",
       "        vertical-align: top;\n",
       "    }\n",
       "\n",
       "    .dataframe thead th {\n",
       "        text-align: right;\n",
       "    }\n",
       "</style>\n",
       "<table border=\"1\" class=\"dataframe\">\n",
       "  <thead>\n",
       "    <tr style=\"text-align: right;\">\n",
       "      <th></th>\n",
       "      <th>beer_name</th>\n",
       "      <th>beer_abv</th>\n",
       "      <th>review_overall</th>\n",
       "    </tr>\n",
       "    <tr>\n",
       "      <th>index</th>\n",
       "      <th></th>\n",
       "      <th></th>\n",
       "      <th></th>\n",
       "    </tr>\n",
       "  </thead>\n",
       "  <tbody>\n",
       "    <tr>\n",
       "      <th>274913</th>\n",
       "      <td>Liber</td>\n",
       "      <td>0.01</td>\n",
       "      <td>1.5</td>\n",
       "    </tr>\n",
       "    <tr>\n",
       "      <th>795876</th>\n",
       "      <td>Lindemans Chello</td>\n",
       "      <td>0.01</td>\n",
       "      <td>2.5</td>\n",
       "    </tr>\n",
       "    <tr>\n",
       "      <th>120140</th>\n",
       "      <td>Genesee NA</td>\n",
       "      <td>0.05</td>\n",
       "      <td>1.0</td>\n",
       "    </tr>\n",
       "    <tr>\n",
       "      <th>138416</th>\n",
       "      <td>Faxe Free</td>\n",
       "      <td>0.05</td>\n",
       "      <td>2.0</td>\n",
       "    </tr>\n",
       "    <tr>\n",
       "      <th>1346482</th>\n",
       "      <td>Bavaria Malt</td>\n",
       "      <td>0.05</td>\n",
       "      <td>2.0</td>\n",
       "    </tr>\n",
       "    <tr>\n",
       "      <th>693288</th>\n",
       "      <td>Xan Wellness</td>\n",
       "      <td>0.05</td>\n",
       "      <td>5.0</td>\n",
       "    </tr>\n",
       "    <tr>\n",
       "      <th>1304129</th>\n",
       "      <td>Budweiser NA</td>\n",
       "      <td>0.05</td>\n",
       "      <td>3.0</td>\n",
       "    </tr>\n",
       "    <tr>\n",
       "      <th>1475962</th>\n",
       "      <td>Arcobräu Non-Alcoholic Pale Weiss</td>\n",
       "      <td>0.05</td>\n",
       "      <td>4.0</td>\n",
       "    </tr>\n",
       "    <tr>\n",
       "      <th>1326088</th>\n",
       "      <td>Jupiler Force</td>\n",
       "      <td>0.08</td>\n",
       "      <td>1.0</td>\n",
       "    </tr>\n",
       "    <tr>\n",
       "      <th>1131331</th>\n",
       "      <td>Laziza Apple</td>\n",
       "      <td>0.10</td>\n",
       "      <td>5.0</td>\n",
       "    </tr>\n",
       "  </tbody>\n",
       "</table>\n",
       "</div>"
      ],
      "text/plain": [
       "                                 beer_name  beer_abv  review_overall\n",
       "index                                                               \n",
       "274913                               Liber      0.01             1.5\n",
       "795876                    Lindemans Chello      0.01             2.5\n",
       "120140                          Genesee NA      0.05             1.0\n",
       "138416                           Faxe Free      0.05             2.0\n",
       "1346482                       Bavaria Malt      0.05             2.0\n",
       "693288                        Xan Wellness      0.05             5.0\n",
       "1304129                       Budweiser NA      0.05             3.0\n",
       "1475962  Arcobräu Non-Alcoholic Pale Weiss      0.05             4.0\n",
       "1326088                      Jupiler Force      0.08             1.0\n",
       "1131331                       Laziza Apple      0.10             5.0"
      ]
     },
     "execution_count": 21,
     "metadata": {},
     "output_type": "execute_result"
    }
   ],
   "source": [
    "# Determining unique beers with the lowest ABV\n",
    "low5_beers = beer_reviews[['beer_name', 'beer_abv', 'review_overall']]\n",
    "low5_beers_sorted = low5_beers.sort_values(by='beer_abv', ascending=True)\n",
    "low5_beers_sorted.drop_duplicates('beer_name').head(10)"
   ]
  },
  {
   "cell_type": "markdown",
   "id": "5a44bc94-d421-4241-9952-e1d504ce7bc6",
   "metadata": {
    "id": "5a44bc94-d421-4241-9952-e1d504ce7bc6"
   },
   "source": [
    "### Observations"
   ]
  },
  {
   "cell_type": "markdown",
   "id": "8546d996",
   "metadata": {
    "id": "8546d996"
   },
   "source": [
    "- Based on the above two tables, we observe that with the increase in a beer's ABV, there are more instances of higher overall scores.\n",
    "\n",
    "- However, this is not a consistent correlation as there are some cases where beers with high ABV have low overall scores and beers with lower ABV have high overall scores.  \n",
    "\n"
   ]
  },
  {
   "cell_type": "markdown",
   "id": "88954b5a-234f-4a29-acf7-4fa2f1c21133",
   "metadata": {
    "id": "88954b5a-234f-4a29-acf7-4fa2f1c21133",
    "tags": []
   },
   "source": [
    "We can do a similar comparison by beer style."
   ]
  },
  {
   "cell_type": "markdown",
   "id": "b2513fd5",
   "metadata": {
    "id": "b2513fd5"
   },
   "source": [
    "#### Beer ABV vs Overall Review Score by Beer Style"
   ]
  },
  {
   "cell_type": "code",
   "execution_count": 22,
   "id": "f27b4666",
   "metadata": {
    "id": "f27b4666",
    "outputId": "53f1cde2-041c-48a8-fab6-3eb09dbd951d",
    "tags": []
   },
   "outputs": [
    {
     "data": {
      "text/html": [
       "<div>\n",
       "<style scoped>\n",
       "    .dataframe tbody tr th:only-of-type {\n",
       "        vertical-align: middle;\n",
       "    }\n",
       "\n",
       "    .dataframe tbody tr th {\n",
       "        vertical-align: top;\n",
       "    }\n",
       "\n",
       "    .dataframe thead th {\n",
       "        text-align: right;\n",
       "    }\n",
       "</style>\n",
       "<table border=\"1\" class=\"dataframe\">\n",
       "  <thead>\n",
       "    <tr style=\"text-align: right;\">\n",
       "      <th></th>\n",
       "      <th>beer_style</th>\n",
       "      <th>beer_abv</th>\n",
       "      <th>review_overall</th>\n",
       "    </tr>\n",
       "    <tr>\n",
       "      <th>index</th>\n",
       "      <th></th>\n",
       "      <th></th>\n",
       "      <th></th>\n",
       "    </tr>\n",
       "  </thead>\n",
       "  <tbody>\n",
       "    <tr>\n",
       "      <th>12919</th>\n",
       "      <td>Eisbock</td>\n",
       "      <td>57.7</td>\n",
       "      <td>4.0</td>\n",
       "    </tr>\n",
       "    <tr>\n",
       "      <th>746343</th>\n",
       "      <td>American Double / Imperial IPA</td>\n",
       "      <td>41.0</td>\n",
       "      <td>1.0</td>\n",
       "    </tr>\n",
       "    <tr>\n",
       "      <th>996154</th>\n",
       "      <td>American Double / Imperial Stout</td>\n",
       "      <td>39.0</td>\n",
       "      <td>5.0</td>\n",
       "    </tr>\n",
       "    <tr>\n",
       "      <th>1042334</th>\n",
       "      <td>English Barleywine</td>\n",
       "      <td>29.0</td>\n",
       "      <td>5.0</td>\n",
       "    </tr>\n",
       "    <tr>\n",
       "      <th>746422</th>\n",
       "      <td>Belgian Strong Pale Ale</td>\n",
       "      <td>28.0</td>\n",
       "      <td>4.0</td>\n",
       "    </tr>\n",
       "    <tr>\n",
       "      <th>293846</th>\n",
       "      <td>American Strong Ale</td>\n",
       "      <td>27.0</td>\n",
       "      <td>4.0</td>\n",
       "    </tr>\n",
       "    <tr>\n",
       "      <th>996004</th>\n",
       "      <td>Russian Imperial Stout</td>\n",
       "      <td>22.0</td>\n",
       "      <td>4.5</td>\n",
       "    </tr>\n",
       "    <tr>\n",
       "      <th>667527</th>\n",
       "      <td>American Malt Liquor</td>\n",
       "      <td>19.5</td>\n",
       "      <td>3.5</td>\n",
       "    </tr>\n",
       "    <tr>\n",
       "      <th>858886</th>\n",
       "      <td>American Barleywine</td>\n",
       "      <td>19.2</td>\n",
       "      <td>3.5</td>\n",
       "    </tr>\n",
       "    <tr>\n",
       "      <th>648641</th>\n",
       "      <td>Belgian Strong Dark Ale</td>\n",
       "      <td>18.1</td>\n",
       "      <td>1.0</td>\n",
       "    </tr>\n",
       "  </tbody>\n",
       "</table>\n",
       "</div>"
      ],
      "text/plain": [
       "                               beer_style  beer_abv  review_overall\n",
       "index                                                              \n",
       "12919                             Eisbock      57.7             4.0\n",
       "746343     American Double / Imperial IPA      41.0             1.0\n",
       "996154   American Double / Imperial Stout      39.0             5.0\n",
       "1042334                English Barleywine      29.0             5.0\n",
       "746422            Belgian Strong Pale Ale      28.0             4.0\n",
       "293846                American Strong Ale      27.0             4.0\n",
       "996004             Russian Imperial Stout      22.0             4.5\n",
       "667527               American Malt Liquor      19.5             3.5\n",
       "858886                American Barleywine      19.2             3.5\n",
       "648641            Belgian Strong Dark Ale      18.1             1.0"
      ]
     },
     "execution_count": 22,
     "metadata": {},
     "output_type": "execute_result"
    }
   ],
   "source": [
    "# Determining beer styles with high abv\n",
    "top5_styles = beer_reviews[['beer_style', 'beer_abv', 'review_overall']]\n",
    "top5_styles_sorted = top5_styles.sort_values(by='beer_abv', ascending=False)\n",
    "top5_styles_sorted.drop_duplicates('beer_style').head(10)"
   ]
  },
  {
   "cell_type": "code",
   "execution_count": 23,
   "id": "53963d48",
   "metadata": {
    "id": "53963d48",
    "outputId": "1dbaef6b-a263-4028-8e3c-05a12cf8b549",
    "tags": []
   },
   "outputs": [
    {
     "data": {
      "text/html": [
       "<div>\n",
       "<style scoped>\n",
       "    .dataframe tbody tr th:only-of-type {\n",
       "        vertical-align: middle;\n",
       "    }\n",
       "\n",
       "    .dataframe tbody tr th {\n",
       "        vertical-align: top;\n",
       "    }\n",
       "\n",
       "    .dataframe thead th {\n",
       "        text-align: right;\n",
       "    }\n",
       "</style>\n",
       "<table border=\"1\" class=\"dataframe\">\n",
       "  <thead>\n",
       "    <tr style=\"text-align: right;\">\n",
       "      <th></th>\n",
       "      <th>beer_style</th>\n",
       "      <th>beer_abv</th>\n",
       "      <th>review_overall</th>\n",
       "    </tr>\n",
       "    <tr>\n",
       "      <th>index</th>\n",
       "      <th></th>\n",
       "      <th></th>\n",
       "      <th></th>\n",
       "    </tr>\n",
       "  </thead>\n",
       "  <tbody>\n",
       "    <tr>\n",
       "      <th>274913</th>\n",
       "      <td>Low Alcohol Beer</td>\n",
       "      <td>0.01</td>\n",
       "      <td>1.5</td>\n",
       "    </tr>\n",
       "    <tr>\n",
       "      <th>795876</th>\n",
       "      <td>Lambic - Fruit</td>\n",
       "      <td>0.01</td>\n",
       "      <td>2.5</td>\n",
       "    </tr>\n",
       "    <tr>\n",
       "      <th>1475962</th>\n",
       "      <td>Hefeweizen</td>\n",
       "      <td>0.05</td>\n",
       "      <td>4.0</td>\n",
       "    </tr>\n",
       "    <tr>\n",
       "      <th>551836</th>\n",
       "      <td>Belgian Pale Ale</td>\n",
       "      <td>0.25</td>\n",
       "      <td>1.5</td>\n",
       "    </tr>\n",
       "    <tr>\n",
       "      <th>1067179</th>\n",
       "      <td>Kvass</td>\n",
       "      <td>0.50</td>\n",
       "      <td>3.5</td>\n",
       "    </tr>\n",
       "    <tr>\n",
       "      <th>746988</th>\n",
       "      <td>American IPA</td>\n",
       "      <td>0.50</td>\n",
       "      <td>4.0</td>\n",
       "    </tr>\n",
       "    <tr>\n",
       "      <th>1451992</th>\n",
       "      <td>Kristalweizen</td>\n",
       "      <td>0.50</td>\n",
       "      <td>1.5</td>\n",
       "    </tr>\n",
       "    <tr>\n",
       "      <th>1427325</th>\n",
       "      <td>Dunkelweizen</td>\n",
       "      <td>0.50</td>\n",
       "      <td>1.5</td>\n",
       "    </tr>\n",
       "    <tr>\n",
       "      <th>397393</th>\n",
       "      <td>Herbed / Spiced Beer</td>\n",
       "      <td>0.50</td>\n",
       "      <td>4.0</td>\n",
       "    </tr>\n",
       "    <tr>\n",
       "      <th>331166</th>\n",
       "      <td>Euro Pale Lager</td>\n",
       "      <td>0.50</td>\n",
       "      <td>3.5</td>\n",
       "    </tr>\n",
       "  </tbody>\n",
       "</table>\n",
       "</div>"
      ],
      "text/plain": [
       "                   beer_style  beer_abv  review_overall\n",
       "index                                                  \n",
       "274913       Low Alcohol Beer      0.01             1.5\n",
       "795876         Lambic - Fruit      0.01             2.5\n",
       "1475962            Hefeweizen      0.05             4.0\n",
       "551836       Belgian Pale Ale      0.25             1.5\n",
       "1067179                 Kvass      0.50             3.5\n",
       "746988           American IPA      0.50             4.0\n",
       "1451992         Kristalweizen      0.50             1.5\n",
       "1427325          Dunkelweizen      0.50             1.5\n",
       "397393   Herbed / Spiced Beer      0.50             4.0\n",
       "331166        Euro Pale Lager      0.50             3.5"
      ]
     },
     "execution_count": 23,
     "metadata": {},
     "output_type": "execute_result"
    }
   ],
   "source": [
    "# Determining beer styles with low abv\n",
    "low5_styles = beer_reviews[['beer_style', 'beer_abv', 'review_overall']]\n",
    "low5_styles_sorted = low5_styles.sort_values(by='beer_abv', ascending=True)\n",
    "low5_styles_sorted.drop_duplicates('beer_style').head(10)"
   ]
  },
  {
   "cell_type": "markdown",
   "id": "8c7017c4-5ffc-4d43-b1f6-e3ea697ebc5e",
   "metadata": {
    "id": "8c7017c4-5ffc-4d43-b1f6-e3ea697ebc5e"
   },
   "source": [
    "### Observations"
   ]
  },
  {
   "cell_type": "markdown",
   "id": "dfdf0041",
   "metadata": {
    "id": "dfdf0041"
   },
   "source": [
    "- Building on the earlier observation, it is apparent that beer styles with higher Alcohol By Volume (ABV) values tend to exhibit a higher frequency of elevated overall ratings. Conversely, those with lower ABVs showcase fewer instances of higher ratings. However, this correlation is not consistently observed across all cases.\n",
    "\n",
    "- This underscores that the overall score of a beer is influenced by multiple factors beyond just the ABV.\n",
    "\n",
    "To delve deeper into the determinants of a beer's overall score, we will incorporate additional attributes such as aroma, appearance, palate, and taste.\n"
   ]
  },
  {
   "cell_type": "markdown",
   "id": "4a858994",
   "metadata": {
    "id": "4a858994"
   },
   "source": [
    "#### 10 Correlation of Beer Attributes"
   ]
  },
  {
   "cell_type": "markdown",
   "id": "8a920758-00cf-447f-9cd1-1a40e488d5a6",
   "metadata": {
    "id": "8a920758-00cf-447f-9cd1-1a40e488d5a6"
   },
   "source": [
    "\n",
    "The forthcoming analysis will explore the interrelationships between attributes of beer like aroma, palate, taste and appearance, shedding light on how they are correlated with each other."
   ]
  },
  {
   "cell_type": "markdown",
   "id": "3dd5a6d6-b6b4-4bdd-b118-ebf0957341a4",
   "metadata": {},
   "source": [
    "### Analysis for the following question:\n",
    "    \n",
    "###  Impact of Alcohol Content on Beer Ratings?"
   ]
  },
  {
   "cell_type": "markdown",
   "id": "40826043",
   "metadata": {
    "id": "40826043"
   },
   "source": [
    "Let us visualize this through a heatmap for better understanding."
   ]
  },
  {
   "cell_type": "markdown",
   "id": "8aa579aa",
   "metadata": {
    "id": "8aa579aa"
   },
   "source": [
    "### Correlation Heatmap"
   ]
  },
  {
   "cell_type": "code",
   "execution_count": 24,
   "id": "d918dbf3-3ce8-477f-b4cc-ee459d5bdd5d",
   "metadata": {
    "tags": []
   },
   "outputs": [
    {
     "name": "stdout",
     "output_type": "stream",
     "text": [
      "The correlation matrix is:\n",
      "                   beer_abv  review_aroma  review_appearance  review_palate  \\\n",
      "beer_abv           1.000000      0.332015           0.263621       0.286214   \n",
      "review_aroma       0.332015      1.000000           0.558428       0.614311   \n",
      "review_appearance  0.263621      0.558428           1.000000       0.563911   \n",
      "review_palate      0.286214      0.614311           0.563911       1.000000   \n",
      "review_taste       0.290356      0.714372           0.543918       0.731837   \n",
      "review_overall     0.138397      0.612806           0.498255       0.698956   \n",
      "\n",
      "                   review_taste  review_overall  \n",
      "beer_abv               0.290356        0.138397  \n",
      "review_aroma           0.714372        0.612806  \n",
      "review_appearance      0.543918        0.498255  \n",
      "review_palate          0.731837        0.698956  \n",
      "review_taste           1.000000        0.787408  \n",
      "review_overall         0.787408        1.000000  \n"
     ]
    }
   ],
   "source": [
    "alcohol_content_corrdata = beer_reviews[['beer_abv','review_aroma','review_appearance', 'review_palate', 'review_taste', 'review_overall']]\n",
    "correlation_matrix = alcohol_content_corrdata.corr()\n",
    "print(\"The correlation matrix is:\")\n",
    "print(correlation_matrix)"
   ]
  },
  {
   "cell_type": "code",
   "execution_count": 25,
   "id": "7a184635-6802-4d7d-ae34-d620f67c17fd",
   "metadata": {
    "tags": []
   },
   "outputs": [
    {
     "data": {
      "image/png": "[encoded data removed]",
      "text/plain": [
       "<Figure size 1000x800 with 2 Axes>"
      ]
     },
     "metadata": {},
     "output_type": "display_data"
    }
   ],
   "source": [
    "plt.figure(figsize=(10, 8))\n",
    "sns.heatmap(correlation_matrix, annot=True, cmap='magma_r', fmt=\".2f\", linewidths=0.5)\n",
    "plt.title('Correlation Heatmap')\n",
    "plt.show()"
   ]
  },
  {
   "cell_type": "markdown",
   "id": "da0a64ad-6e64-4fd5-a7e9-e33b4652ebd1",
   "metadata": {
    "id": "da0a64ad-6e64-4fd5-a7e9-e33b4652ebd1"
   },
   "source": [
    "### Observations"
   ]
  },
  {
   "cell_type": "markdown",
   "id": "e3360f51",
   "metadata": {
    "id": "e3360f51"
   },
   "source": [
    "- The correlation heatmap reinforces the observations derived from our boxplot that the overall review score is majorly influenced by taste.\n",
    "\n",
    "- The palate review score also has a significant effect on the overall review score\n",
    "\n",
    "- Beer tends to defy the age old adage of 'You first eat with your eyes' to some extent given how the appearance has the least influence with the overal review ratings."
   ]
  },
  {
   "cell_type": "markdown",
   "id": "dbc9bd43-7719-4547-b26e-7bcc2fde81c6",
   "metadata": {},
   "source": [
    "### Inferences\n",
    " \n",
    " - Beers with excellent taste often exhibit a well-structured palate, indicating that a harmonious combination of flavor and mouthfeel is appreciated by reviewers.\n",
    " \n",
    " - Beer experts are discerning in their evaluation of brews, and their judgment extends beyond the mere alcohol content. The discerning beer lover does not allow the strength of the beer, as indicated by its alcohol content, to solely dictate their perception of its quality. Instead, a genuine beer connoisseur employs a holistic approach, taking into account a symphony of factors such as aroma, taste, palate, and even the beer's visual presentation to form a comprehensive review and assign a rating."
   ]
  },
  {
   "cell_type": "markdown",
   "id": "54c0a296-eab6-4a41-a468-f68777919194",
   "metadata": {
    "id": "54c0a296-eab6-4a41-a468-f68777919194",
    "tags": []
   },
   "source": [
    "### __Processing for Clustering__"
   ]
  },
  {
   "cell_type": "markdown",
   "id": "409fb214",
   "metadata": {
    "id": "409fb214"
   },
   "source": [
    "\n",
    "With the completion of our EDA, we can begin processing our data to perform clustering operations.\n",
    "\n",
    "This will include the following steps:\n",
    "\n",
    "1. Label encoding the categorical variables\n",
    "2. Scaling the numerical features\n",
    "3. Creating a subset dataframe for dimensionality reduction"
   ]
  },
  {
   "cell_type": "code",
   "execution_count": 26,
   "id": "b97c3ca7",
   "metadata": {
    "id": "b97c3ca7",
    "tags": []
   },
   "outputs": [],
   "source": [
    "# Filtering main dataset\n",
    "beer_reviews_styles = pd.DataFrame(beer_reviews['beer_style'].value_counts())\n",
    "\n",
    "# Keeping only top 10 styles by number of reviews\n",
    "beer_reviews_top_styles = beer_reviews_styles.head(10)\n",
    "\n",
    "# Merging to filter out top 10 styles (inner join)\n",
    "beer_reviews_top_styles_merged = pd.merge(beer_reviews_top_styles, beer_reviews,\\\n",
    "                                          left_index = True, right_on = beer_reviews['beer_style'])"
   ]
  },
  {
   "cell_type": "markdown",
   "id": "83e03db5",
   "metadata": {
    "id": "83e03db5"
   },
   "source": [
    "Filtering the dataset, we retain only the top 10 beer styles based on the number of reviews.\n",
    "\n",
    "The rationale behind this selection is that these beers likely represent the most popular choices.\n",
    "\n",
    "The underlying assumption is that a higher number of reviews correlates with greater consumer preference.\n",
    "\n",
    "Additionally, columns deemed irrelevant to our analysis are removed, streamlining the dataset for a more focused examination.\n"
   ]
  },
  {
   "cell_type": "code",
   "execution_count": 27,
   "id": "c4bccd01",
   "metadata": {
    "id": "c4bccd01",
    "tags": []
   },
   "outputs": [],
   "source": [
    "# Removing unnecessary columns from the dataframe\n",
    "unnecessary_columns = ['review_time','review_profilename','beer_style_x']\n",
    "\n",
    "beer_reviews_top_styles_merged = beer_reviews_top_styles_merged.drop(unnecessary_columns, axis = 1)"
   ]
  },
  {
   "cell_type": "code",
   "execution_count": 28,
   "id": "fa9f00f5-7ca0-46ce-89ea-c6181cb62375",
   "metadata": {
    "id": "fa9f00f5-7ca0-46ce-89ea-c6181cb62375",
    "tags": []
   },
   "outputs": [],
   "source": [
    "# Renaming the joining key to beer_style\n",
    "beer_reviews_top_styles_merged.rename(columns = {'key_0':'beer_style'}, inplace = True)"
   ]
  },
  {
   "cell_type": "code",
   "execution_count": 29,
   "id": "4f03892a-9bc4-4a06-992a-af3c034312b1",
   "metadata": {
    "id": "4f03892a-9bc4-4a06-992a-af3c034312b1",
    "outputId": "57d6d99e-14df-4abc-a05d-387b71e88a31",
    "tags": []
   },
   "outputs": [
    {
     "data": {
      "text/plain": [
       "542930"
      ]
     },
     "execution_count": 29,
     "metadata": {},
     "output_type": "execute_result"
    }
   ],
   "source": [
    "# Checking number of rows in subset\n",
    "len(beer_reviews_top_styles_merged)"
   ]
  },
  {
   "cell_type": "markdown",
   "id": "dd2945e2-dafc-4de8-8987-abba8aed878c",
   "metadata": {
    "id": "dd2945e2-dafc-4de8-8987-abba8aed878c"
   },
   "source": [
    "We've organized the vast world of beers into convenient groups to make the exploration and decision-making more straightforward. Let's delve into why these categorizations are beneficial:\n",
    "\n",
    "#### Beer Quality Rating\n",
    "We've classified beer reviews into four main categories based on their overall scores. This allows you to quickly assess the quality of a beer:\n",
    "\n",
    "- **Poor**: Ratings below 3\n",
    "- **Decent**: Ratings between 3 and 4\n",
    "- **Good**: Ratings between 4 and 4.5\n",
    "- **Best**: Ratings of 4.5 and above\n",
    "\n",
    "By having these classifications, you can easily identify beers that fall within your preferred quality range. Whether you're looking for a casual sipper or a top-tier brew, the categorization streamlines your search.\n",
    "\n",
    "#### Alcohol Strength\n",
    "Understanding the alcohol content in beers is crucial, and we've simplified it into four levels:\n",
    "\n",
    "- **Low**: Alcohol by volume (ABV) ranging from 0% to 5%\n",
    "- **Mild**: ABV between 5% and 15%\n",
    "- **Strong**: ABV between 15% and 30%\n",
    "- **Extreme**: ABV of 30% and above\n",
    "\n",
    "This categorization helps you choose beers based on your preferred alcohol strength. Whether you enjoy lighter options or crave a stronger kick, finding the right beer becomes much easier.\n",
    "\n",
    "By categorizing beers in this way, we can effortlessly form groups based on quality and alcohol content.\n",
    "\n"
   ]
  },
  {
   "cell_type": "code",
   "execution_count": 30,
   "id": "d5424054-0448-4a5c-8a3c-37c75fbb749b",
   "metadata": {
    "id": "d5424054-0448-4a5c-8a3c-37c75fbb749b",
    "tags": []
   },
   "outputs": [],
   "source": [
    "# Creating bins based on overall score of beer\n",
    "beer_reviews_bins = [-0.1, 3, 4, 4.5, 5]\n",
    "beer_reviews_bins_labels = ['Poor', 'Decent', 'Good', 'Best']\n",
    "\n",
    "# Creating bins based on alcohol by volume of beer\n",
    "beer_abv_bins = [0, 5, 15, 30, 100]\n",
    "beer_abv_bins_labels = ['Low', 'Mild', 'Strong', 'Extreme']\n",
    "\n",
    "beer_reviews_top_styles_merged['review_flag'] = pd.cut(beer_reviews_top_styles_merged['review_overall'],\\\n",
    "                                                  beer_reviews_bins, labels=beer_reviews_bins_labels)\n",
    "\n",
    "beer_reviews_top_styles_merged['alcohol_level'] = pd.cut(beer_reviews_top_styles_merged['beer_abv'],\\\n",
    "                                                  beer_abv_bins, labels=beer_abv_bins_labels)"
   ]
  },
  {
   "cell_type": "code",
   "execution_count": 31,
   "id": "325d0298-d0ae-47ec-8bf7-025cef783550",
   "metadata": {
    "id": "325d0298-d0ae-47ec-8bf7-025cef783550",
    "outputId": "594f3c10-5de8-41bc-f7fe-a031e576fa19",
    "tags": []
   },
   "outputs": [
    {
     "data": {
      "text/html": [
       "<div>\n",
       "<style scoped>\n",
       "    .dataframe tbody tr th:only-of-type {\n",
       "        vertical-align: middle;\n",
       "    }\n",
       "\n",
       "    .dataframe tbody tr th {\n",
       "        vertical-align: top;\n",
       "    }\n",
       "\n",
       "    .dataframe thead th {\n",
       "        text-align: right;\n",
       "    }\n",
       "</style>\n",
       "<table border=\"1\" class=\"dataframe\">\n",
       "  <thead>\n",
       "    <tr style=\"text-align: right;\">\n",
       "      <th></th>\n",
       "      <th>beer_style</th>\n",
       "      <th>brewery_id</th>\n",
       "      <th>brewery_name</th>\n",
       "      <th>review_overall</th>\n",
       "      <th>review_aroma</th>\n",
       "      <th>review_appearance</th>\n",
       "      <th>beer_style_y</th>\n",
       "      <th>review_palate</th>\n",
       "      <th>review_taste</th>\n",
       "      <th>beer_name</th>\n",
       "      <th>beer_abv</th>\n",
       "      <th>beer_beerid</th>\n",
       "      <th>review_flag</th>\n",
       "      <th>alcohol_level</th>\n",
       "    </tr>\n",
       "    <tr>\n",
       "      <th>index</th>\n",
       "      <th></th>\n",
       "      <th></th>\n",
       "      <th></th>\n",
       "      <th></th>\n",
       "      <th></th>\n",
       "      <th></th>\n",
       "      <th></th>\n",
       "      <th></th>\n",
       "      <th></th>\n",
       "      <th></th>\n",
       "      <th></th>\n",
       "      <th></th>\n",
       "      <th></th>\n",
       "      <th></th>\n",
       "    </tr>\n",
       "  </thead>\n",
       "  <tbody>\n",
       "    <tr>\n",
       "      <th>585756</th>\n",
       "      <td>American IPA</td>\n",
       "      <td>18564</td>\n",
       "      <td>Upslope Brewing Company</td>\n",
       "      <td>4.5</td>\n",
       "      <td>4.5</td>\n",
       "      <td>4.0</td>\n",
       "      <td>American IPA</td>\n",
       "      <td>4.0</td>\n",
       "      <td>4.0</td>\n",
       "      <td>Upslope India Pale Ale</td>\n",
       "      <td>7.2</td>\n",
       "      <td>46414</td>\n",
       "      <td>Good</td>\n",
       "      <td>Mild</td>\n",
       "    </tr>\n",
       "    <tr>\n",
       "      <th>1089084</th>\n",
       "      <td>American IPA</td>\n",
       "      <td>812</td>\n",
       "      <td>Marin Brewing Company</td>\n",
       "      <td>3.5</td>\n",
       "      <td>3.0</td>\n",
       "      <td>4.5</td>\n",
       "      <td>American IPA</td>\n",
       "      <td>3.5</td>\n",
       "      <td>3.0</td>\n",
       "      <td>Three Flowers</td>\n",
       "      <td>6.5</td>\n",
       "      <td>71854</td>\n",
       "      <td>Decent</td>\n",
       "      <td>Mild</td>\n",
       "    </tr>\n",
       "    <tr>\n",
       "      <th>189841</th>\n",
       "      <td>American IPA</td>\n",
       "      <td>2743</td>\n",
       "      <td>Green Flash Brewing Co.</td>\n",
       "      <td>4.0</td>\n",
       "      <td>4.5</td>\n",
       "      <td>3.5</td>\n",
       "      <td>American IPA</td>\n",
       "      <td>4.0</td>\n",
       "      <td>4.0</td>\n",
       "      <td>Green Flash West Coast I.P.A.</td>\n",
       "      <td>7.3</td>\n",
       "      <td>22505</td>\n",
       "      <td>Decent</td>\n",
       "      <td>Mild</td>\n",
       "    </tr>\n",
       "    <tr>\n",
       "      <th>1433434</th>\n",
       "      <td>American IPA</td>\n",
       "      <td>27016</td>\n",
       "      <td>Somerville Brewing Company (Slumbrew)</td>\n",
       "      <td>3.5</td>\n",
       "      <td>3.5</td>\n",
       "      <td>4.0</td>\n",
       "      <td>American IPA</td>\n",
       "      <td>4.0</td>\n",
       "      <td>3.5</td>\n",
       "      <td>Slumbrew Flagraiser IPA</td>\n",
       "      <td>7.5</td>\n",
       "      <td>74815</td>\n",
       "      <td>Decent</td>\n",
       "      <td>Mild</td>\n",
       "    </tr>\n",
       "    <tr>\n",
       "      <th>1058657</th>\n",
       "      <td>American IPA</td>\n",
       "      <td>200</td>\n",
       "      <td>Mendocino Brewing Company</td>\n",
       "      <td>2.0</td>\n",
       "      <td>3.0</td>\n",
       "      <td>3.0</td>\n",
       "      <td>American IPA</td>\n",
       "      <td>2.0</td>\n",
       "      <td>2.5</td>\n",
       "      <td>White Hawk Original IPA</td>\n",
       "      <td>7.0</td>\n",
       "      <td>4970</td>\n",
       "      <td>Poor</td>\n",
       "      <td>Mild</td>\n",
       "    </tr>\n",
       "  </tbody>\n",
       "</table>\n",
       "</div>"
      ],
      "text/plain": [
       "           beer_style  brewery_id                           brewery_name  \\\n",
       "index                                                                      \n",
       "585756   American IPA       18564                Upslope Brewing Company   \n",
       "1089084  American IPA         812                  Marin Brewing Company   \n",
       "189841   American IPA        2743                Green Flash Brewing Co.   \n",
       "1433434  American IPA       27016  Somerville Brewing Company (Slumbrew)   \n",
       "1058657  American IPA         200              Mendocino Brewing Company   \n",
       "\n",
       "         review_overall  review_aroma  review_appearance  beer_style_y  \\\n",
       "index                                                                    \n",
       "585756              4.5           4.5                4.0  American IPA   \n",
       "1089084             3.5           3.0                4.5  American IPA   \n",
       "189841              4.0           4.5                3.5  American IPA   \n",
       "1433434             3.5           3.5                4.0  American IPA   \n",
       "1058657             2.0           3.0                3.0  American IPA   \n",
       "\n",
       "         review_palate  review_taste                      beer_name  beer_abv  \\\n",
       "index                                                                           \n",
       "585756             4.0           4.0         Upslope India Pale Ale       7.2   \n",
       "1089084            3.5           3.0                  Three Flowers       6.5   \n",
       "189841             4.0           4.0  Green Flash West Coast I.P.A.       7.3   \n",
       "1433434            4.0           3.5        Slumbrew Flagraiser IPA       7.5   \n",
       "1058657            2.0           2.5        White Hawk Original IPA       7.0   \n",
       "\n",
       "         beer_beerid review_flag alcohol_level  \n",
       "index                                           \n",
       "585756         46414        Good          Mild  \n",
       "1089084        71854      Decent          Mild  \n",
       "189841         22505      Decent          Mild  \n",
       "1433434        74815      Decent          Mild  \n",
       "1058657         4970        Poor          Mild  "
      ]
     },
     "execution_count": 31,
     "metadata": {},
     "output_type": "execute_result"
    }
   ],
   "source": [
    "beer_reviews_top_styles_merged.head()"
   ]
  },
  {
   "cell_type": "markdown",
   "id": "60286ab7",
   "metadata": {
    "id": "60286ab7"
   },
   "source": [
    "#### 1. Label encoding the categorical variables\n",
    "\n",
    "Converting categorical variables to numerical format is crucial for effective clustering.\n",
    "\n",
    "This process enables clustering algorithms to analyze and identify patterns within the data.\n",
    "\n",
    "The next step involves systematically transforming each categorical variable, setting the stage for meaningful insights through clustering analyses."
   ]
  },
  {
   "cell_type": "code",
   "execution_count": 32,
   "id": "184a2004",
   "metadata": {
    "id": "184a2004",
    "outputId": "e299fc7b-3e06-464b-f263-e77baa8b9c53",
    "tags": []
   },
   "outputs": [
    {
     "data": {
      "text/plain": [
       "beer_style             object\n",
       "brewery_id              int64\n",
       "brewery_name           object\n",
       "review_overall        float64\n",
       "review_aroma          float64\n",
       "review_appearance     float64\n",
       "beer_style_y           object\n",
       "review_palate         float64\n",
       "review_taste          float64\n",
       "beer_name              object\n",
       "beer_abv              float64\n",
       "beer_beerid             int64\n",
       "review_flag          category\n",
       "alcohol_level        category\n",
       "dtype: object"
      ]
     },
     "execution_count": 32,
     "metadata": {},
     "output_type": "execute_result"
    }
   ],
   "source": [
    "# Data type of all variables\n",
    "beer_reviews_top_styles_merged.dtypes"
   ]
  },
  {
   "cell_type": "code",
   "execution_count": 33,
   "id": "974cca63-5546-453a-b2d5-36af31fb5a4f",
   "metadata": {
    "id": "974cca63-5546-453a-b2d5-36af31fb5a4f",
    "outputId": "99a4f9de-52ed-478f-bf50-7ad4780bf1c1",
    "tags": []
   },
   "outputs": [
    {
     "data": {
      "text/html": [
       "<div>\n",
       "<style scoped>\n",
       "    .dataframe tbody tr th:only-of-type {\n",
       "        vertical-align: middle;\n",
       "    }\n",
       "\n",
       "    .dataframe tbody tr th {\n",
       "        vertical-align: top;\n",
       "    }\n",
       "\n",
       "    .dataframe thead th {\n",
       "        text-align: right;\n",
       "    }\n",
       "</style>\n",
       "<table border=\"1\" class=\"dataframe\">\n",
       "  <thead>\n",
       "    <tr style=\"text-align: right;\">\n",
       "      <th></th>\n",
       "      <th>beer_style</th>\n",
       "      <th>review_aroma</th>\n",
       "      <th>review_appearance</th>\n",
       "      <th>review_palate</th>\n",
       "      <th>review_taste</th>\n",
       "      <th>review_flag</th>\n",
       "      <th>alcohol_level</th>\n",
       "    </tr>\n",
       "    <tr>\n",
       "      <th>index</th>\n",
       "      <th></th>\n",
       "      <th></th>\n",
       "      <th></th>\n",
       "      <th></th>\n",
       "      <th></th>\n",
       "      <th></th>\n",
       "      <th></th>\n",
       "    </tr>\n",
       "  </thead>\n",
       "  <tbody>\n",
       "    <tr>\n",
       "      <th>585756</th>\n",
       "      <td>American IPA</td>\n",
       "      <td>4.5</td>\n",
       "      <td>4.0</td>\n",
       "      <td>4.0</td>\n",
       "      <td>4.0</td>\n",
       "      <td>Good</td>\n",
       "      <td>Mild</td>\n",
       "    </tr>\n",
       "    <tr>\n",
       "      <th>1089084</th>\n",
       "      <td>American IPA</td>\n",
       "      <td>3.0</td>\n",
       "      <td>4.5</td>\n",
       "      <td>3.5</td>\n",
       "      <td>3.0</td>\n",
       "      <td>Decent</td>\n",
       "      <td>Mild</td>\n",
       "    </tr>\n",
       "    <tr>\n",
       "      <th>189841</th>\n",
       "      <td>American IPA</td>\n",
       "      <td>4.5</td>\n",
       "      <td>3.5</td>\n",
       "      <td>4.0</td>\n",
       "      <td>4.0</td>\n",
       "      <td>Decent</td>\n",
       "      <td>Mild</td>\n",
       "    </tr>\n",
       "    <tr>\n",
       "      <th>1433434</th>\n",
       "      <td>American IPA</td>\n",
       "      <td>3.5</td>\n",
       "      <td>4.0</td>\n",
       "      <td>4.0</td>\n",
       "      <td>3.5</td>\n",
       "      <td>Decent</td>\n",
       "      <td>Mild</td>\n",
       "    </tr>\n",
       "    <tr>\n",
       "      <th>1058657</th>\n",
       "      <td>American IPA</td>\n",
       "      <td>3.0</td>\n",
       "      <td>3.0</td>\n",
       "      <td>2.0</td>\n",
       "      <td>2.5</td>\n",
       "      <td>Poor</td>\n",
       "      <td>Mild</td>\n",
       "    </tr>\n",
       "    <tr>\n",
       "      <th>...</th>\n",
       "      <td>...</td>\n",
       "      <td>...</td>\n",
       "      <td>...</td>\n",
       "      <td>...</td>\n",
       "      <td>...</td>\n",
       "      <td>...</td>\n",
       "      <td>...</td>\n",
       "    </tr>\n",
       "    <tr>\n",
       "      <th>1346241</th>\n",
       "      <td>Belgian Strong Pale Ale</td>\n",
       "      <td>4.0</td>\n",
       "      <td>5.0</td>\n",
       "      <td>4.5</td>\n",
       "      <td>4.5</td>\n",
       "      <td>Best</td>\n",
       "      <td>Mild</td>\n",
       "    </tr>\n",
       "    <tr>\n",
       "      <th>1345030</th>\n",
       "      <td>Belgian Strong Pale Ale</td>\n",
       "      <td>4.5</td>\n",
       "      <td>4.0</td>\n",
       "      <td>4.0</td>\n",
       "      <td>4.5</td>\n",
       "      <td>Good</td>\n",
       "      <td>Mild</td>\n",
       "    </tr>\n",
       "    <tr>\n",
       "      <th>1563427</th>\n",
       "      <td>Belgian Strong Pale Ale</td>\n",
       "      <td>4.0</td>\n",
       "      <td>4.5</td>\n",
       "      <td>4.5</td>\n",
       "      <td>4.5</td>\n",
       "      <td>Good</td>\n",
       "      <td>Mild</td>\n",
       "    </tr>\n",
       "    <tr>\n",
       "      <th>98851</th>\n",
       "      <td>Belgian Strong Pale Ale</td>\n",
       "      <td>4.0</td>\n",
       "      <td>4.0</td>\n",
       "      <td>4.0</td>\n",
       "      <td>4.0</td>\n",
       "      <td>Decent</td>\n",
       "      <td>Mild</td>\n",
       "    </tr>\n",
       "    <tr>\n",
       "      <th>1259887</th>\n",
       "      <td>Belgian Strong Pale Ale</td>\n",
       "      <td>4.0</td>\n",
       "      <td>4.0</td>\n",
       "      <td>5.0</td>\n",
       "      <td>5.0</td>\n",
       "      <td>Best</td>\n",
       "      <td>Mild</td>\n",
       "    </tr>\n",
       "  </tbody>\n",
       "</table>\n",
       "<p>542930 rows × 7 columns</p>\n",
       "</div>"
      ],
      "text/plain": [
       "                      beer_style  review_aroma  review_appearance  \\\n",
       "index                                                               \n",
       "585756              American IPA           4.5                4.0   \n",
       "1089084             American IPA           3.0                4.5   \n",
       "189841              American IPA           4.5                3.5   \n",
       "1433434             American IPA           3.5                4.0   \n",
       "1058657             American IPA           3.0                3.0   \n",
       "...                          ...           ...                ...   \n",
       "1346241  Belgian Strong Pale Ale           4.0                5.0   \n",
       "1345030  Belgian Strong Pale Ale           4.5                4.0   \n",
       "1563427  Belgian Strong Pale Ale           4.0                4.5   \n",
       "98851    Belgian Strong Pale Ale           4.0                4.0   \n",
       "1259887  Belgian Strong Pale Ale           4.0                4.0   \n",
       "\n",
       "         review_palate  review_taste review_flag alcohol_level  \n",
       "index                                                           \n",
       "585756             4.0           4.0        Good          Mild  \n",
       "1089084            3.5           3.0      Decent          Mild  \n",
       "189841             4.0           4.0      Decent          Mild  \n",
       "1433434            4.0           3.5      Decent          Mild  \n",
       "1058657            2.0           2.5        Poor          Mild  \n",
       "...                ...           ...         ...           ...  \n",
       "1346241            4.5           4.5        Best          Mild  \n",
       "1345030            4.0           4.5        Good          Mild  \n",
       "1563427            4.5           4.5        Good          Mild  \n",
       "98851              4.0           4.0      Decent          Mild  \n",
       "1259887            5.0           5.0        Best          Mild  \n",
       "\n",
       "[542930 rows x 7 columns]"
      ]
     },
     "execution_count": 33,
     "metadata": {},
     "output_type": "execute_result"
    }
   ],
   "source": [
    "# Keeping only numerical columns and columns to be encoded\n",
    "beer_reviews_top_styles_merged_numerical = beer_reviews_top_styles_merged[['beer_style', 'review_aroma', 'review_appearance', 'review_palate', 'review_taste','review_flag', 'alcohol_level']]\n",
    "\n",
    "beer_reviews_top_styles_merged_numerical"
   ]
  },
  {
   "cell_type": "code",
   "execution_count": 34,
   "id": "3bc534e7-a78c-47d6-be0a-7aa375298562",
   "metadata": {
    "id": "3bc534e7-a78c-47d6-be0a-7aa375298562",
    "outputId": "112b9ed5-5ed3-4c17-ce21-a377fcbc7b60",
    "tags": []
   },
   "outputs": [
    {
     "name": "stdout",
     "output_type": "stream",
     "text": [
      "Object type variables in the dataset: ['beer_style']\n"
     ]
    }
   ],
   "source": [
    "# Get list of object type variables\n",
    "s = (beer_reviews_top_styles_merged_numerical.dtypes == 'object')\n",
    "object_cols = list(s[s].index)\n",
    "\n",
    "print(\"Object type variables in the dataset:\", object_cols)"
   ]
  },
  {
   "cell_type": "markdown",
   "id": "3c031fa3",
   "metadata": {
    "id": "3c031fa3"
   },
   "source": [
    "Label encoding is vital for clustering in machine learning, converting categorical data to a numerical format essential for algorithms.\n",
    "\n",
    "It simplifies the process, retains order information, and ensures compatibility with clustering algorithms."
   ]
  },
  {
   "cell_type": "code",
   "execution_count": 35,
   "id": "82e40ab1-08af-45b3-88c8-21e81328cba3",
   "metadata": {
    "id": "82e40ab1-08af-45b3-88c8-21e81328cba3",
    "outputId": "139b823d-082d-456d-c95d-6d06b7a88f73",
    "tags": []
   },
   "outputs": [
    {
     "name": "stdout",
     "output_type": "stream",
     "text": [
      "Object features are now numerical\n"
     ]
    }
   ],
   "source": [
    "# Encoding using label encoder\n",
    "LE = LabelEncoder()\n",
    "for i in object_cols:\n",
    "    beer_reviews_top_styles_merged_numerical[i]=beer_reviews_top_styles_merged_numerical[[i]].apply(LE.fit_transform)\n",
    "\n",
    "print(\"Object features are now numerical\")"
   ]
  },
  {
   "cell_type": "code",
   "execution_count": 36,
   "id": "00ab8a27-b0de-47c0-945d-7674533a3ea4",
   "metadata": {
    "id": "00ab8a27-b0de-47c0-945d-7674533a3ea4",
    "outputId": "39cf6abd-61e2-4b62-cca5-f03bd35590e0",
    "tags": []
   },
   "outputs": [
    {
     "name": "stdout",
     "output_type": "stream",
     "text": [
      "Categorical variables in the dataset: ['review_flag', 'alcohol_level']\n"
     ]
    }
   ],
   "source": [
    "# Get list of categorical variables\n",
    "s = (beer_reviews_top_styles_merged_numerical.dtypes == 'category') # uncomment and run once\n",
    "cat_cols = list(s[s].index)\n",
    "\n",
    "print(\"Categorical variables in the dataset:\", cat_cols)"
   ]
  },
  {
   "cell_type": "code",
   "execution_count": 37,
   "id": "3f4bc833-48e1-42fd-818b-82f9c26f705d",
   "metadata": {
    "id": "3f4bc833-48e1-42fd-818b-82f9c26f705d",
    "outputId": "0f681527-25ca-4d9a-ceab-dde9af5abf14",
    "tags": []
   },
   "outputs": [
    {
     "name": "stdout",
     "output_type": "stream",
     "text": [
      "All features are now numerical\n"
     ]
    }
   ],
   "source": [
    "# Encoding using label encoder\n",
    "LE = LabelEncoder()\n",
    "for i in cat_cols:\n",
    "    beer_reviews_top_styles_merged_numerical[i]=beer_reviews_top_styles_merged_numerical[[i]].apply(LE.fit_transform)\n",
    "\n",
    "print(\"All features are now numerical\")"
   ]
  },
  {
   "cell_type": "code",
   "execution_count": 38,
   "id": "d3f58dc3-5a0a-401f-9078-1d9d368f822b",
   "metadata": {
    "id": "d3f58dc3-5a0a-401f-9078-1d9d368f822b",
    "outputId": "02a35abf-2822-466b-9f41-551d02a0e1b9",
    "tags": []
   },
   "outputs": [
    {
     "data": {
      "text/html": [
       "<div>\n",
       "<style scoped>\n",
       "    .dataframe tbody tr th:only-of-type {\n",
       "        vertical-align: middle;\n",
       "    }\n",
       "\n",
       "    .dataframe tbody tr th {\n",
       "        vertical-align: top;\n",
       "    }\n",
       "\n",
       "    .dataframe thead th {\n",
       "        text-align: right;\n",
       "    }\n",
       "</style>\n",
       "<table border=\"1\" class=\"dataframe\">\n",
       "  <thead>\n",
       "    <tr style=\"text-align: right;\">\n",
       "      <th></th>\n",
       "      <th>beer_style</th>\n",
       "      <th>review_aroma</th>\n",
       "      <th>review_appearance</th>\n",
       "      <th>review_palate</th>\n",
       "      <th>review_taste</th>\n",
       "      <th>review_flag</th>\n",
       "      <th>alcohol_level</th>\n",
       "    </tr>\n",
       "    <tr>\n",
       "      <th>index</th>\n",
       "      <th></th>\n",
       "      <th></th>\n",
       "      <th></th>\n",
       "      <th></th>\n",
       "      <th></th>\n",
       "      <th></th>\n",
       "      <th></th>\n",
       "    </tr>\n",
       "  </thead>\n",
       "  <tbody>\n",
       "    <tr>\n",
       "      <th>585756</th>\n",
       "      <td>3</td>\n",
       "      <td>4.5</td>\n",
       "      <td>4.0</td>\n",
       "      <td>4.0</td>\n",
       "      <td>4.0</td>\n",
       "      <td>2</td>\n",
       "      <td>2</td>\n",
       "    </tr>\n",
       "    <tr>\n",
       "      <th>1089084</th>\n",
       "      <td>3</td>\n",
       "      <td>3.0</td>\n",
       "      <td>4.5</td>\n",
       "      <td>3.5</td>\n",
       "      <td>3.0</td>\n",
       "      <td>1</td>\n",
       "      <td>2</td>\n",
       "    </tr>\n",
       "    <tr>\n",
       "      <th>189841</th>\n",
       "      <td>3</td>\n",
       "      <td>4.5</td>\n",
       "      <td>3.5</td>\n",
       "      <td>4.0</td>\n",
       "      <td>4.0</td>\n",
       "      <td>1</td>\n",
       "      <td>2</td>\n",
       "    </tr>\n",
       "    <tr>\n",
       "      <th>1433434</th>\n",
       "      <td>3</td>\n",
       "      <td>3.5</td>\n",
       "      <td>4.0</td>\n",
       "      <td>4.0</td>\n",
       "      <td>3.5</td>\n",
       "      <td>1</td>\n",
       "      <td>2</td>\n",
       "    </tr>\n",
       "    <tr>\n",
       "      <th>1058657</th>\n",
       "      <td>3</td>\n",
       "      <td>3.0</td>\n",
       "      <td>3.0</td>\n",
       "      <td>2.0</td>\n",
       "      <td>2.5</td>\n",
       "      <td>3</td>\n",
       "      <td>2</td>\n",
       "    </tr>\n",
       "    <tr>\n",
       "      <th>...</th>\n",
       "      <td>...</td>\n",
       "      <td>...</td>\n",
       "      <td>...</td>\n",
       "      <td>...</td>\n",
       "      <td>...</td>\n",
       "      <td>...</td>\n",
       "      <td>...</td>\n",
       "    </tr>\n",
       "    <tr>\n",
       "      <th>1346241</th>\n",
       "      <td>7</td>\n",
       "      <td>4.0</td>\n",
       "      <td>5.0</td>\n",
       "      <td>4.5</td>\n",
       "      <td>4.5</td>\n",
       "      <td>0</td>\n",
       "      <td>2</td>\n",
       "    </tr>\n",
       "    <tr>\n",
       "      <th>1345030</th>\n",
       "      <td>7</td>\n",
       "      <td>4.5</td>\n",
       "      <td>4.0</td>\n",
       "      <td>4.0</td>\n",
       "      <td>4.5</td>\n",
       "      <td>2</td>\n",
       "      <td>2</td>\n",
       "    </tr>\n",
       "    <tr>\n",
       "      <th>1563427</th>\n",
       "      <td>7</td>\n",
       "      <td>4.0</td>\n",
       "      <td>4.5</td>\n",
       "      <td>4.5</td>\n",
       "      <td>4.5</td>\n",
       "      <td>2</td>\n",
       "      <td>2</td>\n",
       "    </tr>\n",
       "    <tr>\n",
       "      <th>98851</th>\n",
       "      <td>7</td>\n",
       "      <td>4.0</td>\n",
       "      <td>4.0</td>\n",
       "      <td>4.0</td>\n",
       "      <td>4.0</td>\n",
       "      <td>1</td>\n",
       "      <td>2</td>\n",
       "    </tr>\n",
       "    <tr>\n",
       "      <th>1259887</th>\n",
       "      <td>7</td>\n",
       "      <td>4.0</td>\n",
       "      <td>4.0</td>\n",
       "      <td>5.0</td>\n",
       "      <td>5.0</td>\n",
       "      <td>0</td>\n",
       "      <td>2</td>\n",
       "    </tr>\n",
       "  </tbody>\n",
       "</table>\n",
       "<p>542930 rows × 7 columns</p>\n",
       "</div>"
      ],
      "text/plain": [
       "         beer_style  review_aroma  review_appearance  review_palate  \\\n",
       "index                                                                 \n",
       "585756            3           4.5                4.0            4.0   \n",
       "1089084           3           3.0                4.5            3.5   \n",
       "189841            3           4.5                3.5            4.0   \n",
       "1433434           3           3.5                4.0            4.0   \n",
       "1058657           3           3.0                3.0            2.0   \n",
       "...             ...           ...                ...            ...   \n",
       "1346241           7           4.0                5.0            4.5   \n",
       "1345030           7           4.5                4.0            4.0   \n",
       "1563427           7           4.0                4.5            4.5   \n",
       "98851             7           4.0                4.0            4.0   \n",
       "1259887           7           4.0                4.0            5.0   \n",
       "\n",
       "         review_taste  review_flag  alcohol_level  \n",
       "index                                              \n",
       "585756            4.0            2              2  \n",
       "1089084           3.0            1              2  \n",
       "189841            4.0            1              2  \n",
       "1433434           3.5            1              2  \n",
       "1058657           2.5            3              2  \n",
       "...               ...          ...            ...  \n",
       "1346241           4.5            0              2  \n",
       "1345030           4.5            2              2  \n",
       "1563427           4.5            2              2  \n",
       "98851             4.0            1              2  \n",
       "1259887           5.0            0              2  \n",
       "\n",
       "[542930 rows x 7 columns]"
      ]
     },
     "execution_count": 38,
     "metadata": {},
     "output_type": "execute_result"
    }
   ],
   "source": [
    "#displaying the dataframe\n",
    "beer_reviews_top_styles_merged_numerical"
   ]
  },
  {
   "cell_type": "markdown",
   "id": "4014a143",
   "metadata": {
    "id": "4014a143"
   },
   "source": [
    "#### 2. Scaling the numerical features"
   ]
  },
  {
   "cell_type": "markdown",
   "id": "8e096d90-361d-4362-99e3-9773562ff15d",
   "metadata": {
    "id": "8e096d90-361d-4362-99e3-9773562ff15d"
   },
   "source": [
    "We employ MinMaxScaler to standardize all attributes, ensuring they share a common scale for consistent and accurate comparisons.\n",
    "\n",
    "MinMaxScaler is a technique that transforms numerical data to a specific range, typically between 0 and 1, facilitating fair comparisons among different features in data analysis"
   ]
  },
  {
   "cell_type": "code",
   "execution_count": 39,
   "id": "dd5282e9-8b28-4064-b946-8b52d3cbaa9a",
   "metadata": {
    "id": "dd5282e9-8b28-4064-b946-8b52d3cbaa9a",
    "outputId": "1615bb86-70c1-4144-cb75-1764104725ec",
    "tags": []
   },
   "outputs": [
    {
     "name": "stdout",
     "output_type": "stream",
     "text": [
      "All features are now scaled\n"
     ]
    }
   ],
   "source": [
    "# Scaling using MinMaxScaler\n",
    "scaler = MinMaxScaler()\n",
    "beer_reviews_top_styles_merged_numerical_scaled = pd.DataFrame(scaler.fit_transform(beer_reviews_top_styles_merged_numerical),\\\n",
    "                                                   index = beer_reviews_top_styles_merged_numerical.index,\\\n",
    "                                                   columns = beer_reviews_top_styles_merged_numerical.columns)\n",
    "\n",
    "\n",
    "print(\"All features are now scaled\")\n"
   ]
  },
  {
   "cell_type": "code",
   "execution_count": 40,
   "id": "697fc460",
   "metadata": {
    "id": "697fc460",
    "outputId": "97d6b92a-4557-448c-9154-e5b4e4f470a2",
    "tags": []
   },
   "outputs": [
    {
     "data": {
      "text/html": [
       "<div>\n",
       "<style scoped>\n",
       "    .dataframe tbody tr th:only-of-type {\n",
       "        vertical-align: middle;\n",
       "    }\n",
       "\n",
       "    .dataframe tbody tr th {\n",
       "        vertical-align: top;\n",
       "    }\n",
       "\n",
       "    .dataframe thead th {\n",
       "        text-align: right;\n",
       "    }\n",
       "</style>\n",
       "<table border=\"1\" class=\"dataframe\">\n",
       "  <thead>\n",
       "    <tr style=\"text-align: right;\">\n",
       "      <th></th>\n",
       "      <th>beer_style</th>\n",
       "      <th>review_aroma</th>\n",
       "      <th>review_appearance</th>\n",
       "      <th>review_palate</th>\n",
       "      <th>review_taste</th>\n",
       "      <th>review_flag</th>\n",
       "      <th>alcohol_level</th>\n",
       "    </tr>\n",
       "    <tr>\n",
       "      <th>index</th>\n",
       "      <th></th>\n",
       "      <th></th>\n",
       "      <th></th>\n",
       "      <th></th>\n",
       "      <th></th>\n",
       "      <th></th>\n",
       "      <th></th>\n",
       "    </tr>\n",
       "  </thead>\n",
       "  <tbody>\n",
       "    <tr>\n",
       "      <th>585756</th>\n",
       "      <td>0.333333</td>\n",
       "      <td>0.875</td>\n",
       "      <td>0.8</td>\n",
       "      <td>0.750</td>\n",
       "      <td>0.750</td>\n",
       "      <td>0.666667</td>\n",
       "      <td>0.666667</td>\n",
       "    </tr>\n",
       "    <tr>\n",
       "      <th>1089084</th>\n",
       "      <td>0.333333</td>\n",
       "      <td>0.500</td>\n",
       "      <td>0.9</td>\n",
       "      <td>0.625</td>\n",
       "      <td>0.500</td>\n",
       "      <td>0.333333</td>\n",
       "      <td>0.666667</td>\n",
       "    </tr>\n",
       "    <tr>\n",
       "      <th>189841</th>\n",
       "      <td>0.333333</td>\n",
       "      <td>0.875</td>\n",
       "      <td>0.7</td>\n",
       "      <td>0.750</td>\n",
       "      <td>0.750</td>\n",
       "      <td>0.333333</td>\n",
       "      <td>0.666667</td>\n",
       "    </tr>\n",
       "    <tr>\n",
       "      <th>1433434</th>\n",
       "      <td>0.333333</td>\n",
       "      <td>0.625</td>\n",
       "      <td>0.8</td>\n",
       "      <td>0.750</td>\n",
       "      <td>0.625</td>\n",
       "      <td>0.333333</td>\n",
       "      <td>0.666667</td>\n",
       "    </tr>\n",
       "    <tr>\n",
       "      <th>1058657</th>\n",
       "      <td>0.333333</td>\n",
       "      <td>0.500</td>\n",
       "      <td>0.6</td>\n",
       "      <td>0.250</td>\n",
       "      <td>0.375</td>\n",
       "      <td>1.000000</td>\n",
       "      <td>0.666667</td>\n",
       "    </tr>\n",
       "    <tr>\n",
       "      <th>...</th>\n",
       "      <td>...</td>\n",
       "      <td>...</td>\n",
       "      <td>...</td>\n",
       "      <td>...</td>\n",
       "      <td>...</td>\n",
       "      <td>...</td>\n",
       "      <td>...</td>\n",
       "    </tr>\n",
       "    <tr>\n",
       "      <th>1346241</th>\n",
       "      <td>0.777778</td>\n",
       "      <td>0.750</td>\n",
       "      <td>1.0</td>\n",
       "      <td>0.875</td>\n",
       "      <td>0.875</td>\n",
       "      <td>0.000000</td>\n",
       "      <td>0.666667</td>\n",
       "    </tr>\n",
       "    <tr>\n",
       "      <th>1345030</th>\n",
       "      <td>0.777778</td>\n",
       "      <td>0.875</td>\n",
       "      <td>0.8</td>\n",
       "      <td>0.750</td>\n",
       "      <td>0.875</td>\n",
       "      <td>0.666667</td>\n",
       "      <td>0.666667</td>\n",
       "    </tr>\n",
       "    <tr>\n",
       "      <th>1563427</th>\n",
       "      <td>0.777778</td>\n",
       "      <td>0.750</td>\n",
       "      <td>0.9</td>\n",
       "      <td>0.875</td>\n",
       "      <td>0.875</td>\n",
       "      <td>0.666667</td>\n",
       "      <td>0.666667</td>\n",
       "    </tr>\n",
       "    <tr>\n",
       "      <th>98851</th>\n",
       "      <td>0.777778</td>\n",
       "      <td>0.750</td>\n",
       "      <td>0.8</td>\n",
       "      <td>0.750</td>\n",
       "      <td>0.750</td>\n",
       "      <td>0.333333</td>\n",
       "      <td>0.666667</td>\n",
       "    </tr>\n",
       "    <tr>\n",
       "      <th>1259887</th>\n",
       "      <td>0.777778</td>\n",
       "      <td>0.750</td>\n",
       "      <td>0.8</td>\n",
       "      <td>1.000</td>\n",
       "      <td>1.000</td>\n",
       "      <td>0.000000</td>\n",
       "      <td>0.666667</td>\n",
       "    </tr>\n",
       "  </tbody>\n",
       "</table>\n",
       "<p>542930 rows × 7 columns</p>\n",
       "</div>"
      ],
      "text/plain": [
       "         beer_style  review_aroma  review_appearance  review_palate  \\\n",
       "index                                                                 \n",
       "585756     0.333333         0.875                0.8          0.750   \n",
       "1089084    0.333333         0.500                0.9          0.625   \n",
       "189841     0.333333         0.875                0.7          0.750   \n",
       "1433434    0.333333         0.625                0.8          0.750   \n",
       "1058657    0.333333         0.500                0.6          0.250   \n",
       "...             ...           ...                ...            ...   \n",
       "1346241    0.777778         0.750                1.0          0.875   \n",
       "1345030    0.777778         0.875                0.8          0.750   \n",
       "1563427    0.777778         0.750                0.9          0.875   \n",
       "98851      0.777778         0.750                0.8          0.750   \n",
       "1259887    0.777778         0.750                0.8          1.000   \n",
       "\n",
       "         review_taste  review_flag  alcohol_level  \n",
       "index                                              \n",
       "585756          0.750     0.666667       0.666667  \n",
       "1089084         0.500     0.333333       0.666667  \n",
       "189841          0.750     0.333333       0.666667  \n",
       "1433434         0.625     0.333333       0.666667  \n",
       "1058657         0.375     1.000000       0.666667  \n",
       "...               ...          ...            ...  \n",
       "1346241         0.875     0.000000       0.666667  \n",
       "1345030         0.875     0.666667       0.666667  \n",
       "1563427         0.875     0.666667       0.666667  \n",
       "98851           0.750     0.333333       0.666667  \n",
       "1259887         1.000     0.000000       0.666667  \n",
       "\n",
       "[542930 rows x 7 columns]"
      ]
     },
     "execution_count": 40,
     "metadata": {},
     "output_type": "execute_result"
    }
   ],
   "source": [
    "beer_reviews_top_styles_merged_numerical_scaled"
   ]
  },
  {
   "cell_type": "markdown",
   "id": "d7c713d5",
   "metadata": {
    "id": "d7c713d5"
   },
   "source": [
    "#### 3. Clustering\n",
    "\n",
    "We use clustering as a technique to group similar data points together.\n",
    "\n",
    "The elbow method assists us in determining the most suitable number of clusters for our data.\n",
    "\n",
    "We look for the elbow point by running a clustering algorithm with varied cluster numbers and visualizing the results.\n",
    "\n",
    "This point indicates the proper balance between simplicity and capturing the true nature of the data."
   ]
  },
  {
   "cell_type": "code",
   "execution_count": 41,
   "id": "9eb0d892-e9b8-43a7-8790-38c570804d7c",
   "metadata": {
    "id": "9eb0d892-e9b8-43a7-8790-38c570804d7c",
    "outputId": "55167a47-1ffd-4f1d-9862-d60a7b900974",
    "tags": []
   },
   "outputs": [
    {
     "name": "stdout",
     "output_type": "stream",
     "text": [
      "Elbow Method to determine the number of clusters to be formed:\n"
     ]
    },
    {
     "data": {
      "image/png": "[encoded data removed]",
      "text/plain": [
       "<Figure size 800x550 with 2 Axes>"
      ]
     },
     "metadata": {},
     "output_type": "display_data"
    },
    {
     "data": {
      "text/plain": [
       "<Axes: title={'center': 'Distortion Score Elbow for KMeans Clustering'}, xlabel='k', ylabel='distortion score'>"
      ]
     },
     "execution_count": 41,
     "metadata": {},
     "output_type": "execute_result"
    }
   ],
   "source": [
    "# Determining the optimal number of clusters\n",
    "print('Elbow Method to determine the number of clusters to be formed:')\n",
    "Elbow_M = KElbowVisualizer(KMeans(), k=10)\n",
    "Elbow_M.fit(beer_reviews_top_styles_merged_numerical_scaled)\n",
    "Elbow_M.show()"
   ]
  },
  {
   "cell_type": "markdown",
   "id": "1131bba9",
   "metadata": {
    "id": "1131bba9"
   },
   "source": [
    "### Observations\n",
    "- We find that the optimal number of clusters is 4 with a score of 64226.250.\n",
    "\n",
    "- This indicates that when we organize our data into four clusters, the points within each group are well-organized.\n",
    "\n",
    "- The lower score, 64226.250, suggests that these groups are neatly formed.\n",
    "\n",
    "- In essence, it proposes that choosing four clusters is a fitting option for us to grasp the key patterns in our data without making things too complex or too straightforward."
   ]
  },
  {
   "cell_type": "markdown",
   "id": "a8c4c6fd",
   "metadata": {
    "id": "a8c4c6fd"
   },
   "source": [
    "We use K-Means clustering to create four clusters, leveraging the effectiveness of the `KMeans` algorithm.\n",
    "\n",
    "The choice of four clusters is informed by the elbow method, revealing the optimal number for uncovering distinct patterns in our data.\n",
    "\n",
    "The 'cluster' column enhances our exploration, providing a clear representation for meaningful insights derived from this approach."
   ]
  },
  {
   "cell_type": "code",
   "execution_count": 42,
   "id": "cc627a8c-48dc-4f1b-b972-d066de1a0747",
   "metadata": {
    "id": "cc627a8c-48dc-4f1b-b972-d066de1a0747",
    "outputId": "d2497bf4-b019-43ee-eb36-31ad85b7befa",
    "tags": []
   },
   "outputs": [
    {
     "data": {
      "text/html": [
       "<div>\n",
       "<style scoped>\n",
       "    .dataframe tbody tr th:only-of-type {\n",
       "        vertical-align: middle;\n",
       "    }\n",
       "\n",
       "    .dataframe tbody tr th {\n",
       "        vertical-align: top;\n",
       "    }\n",
       "\n",
       "    .dataframe thead th {\n",
       "        text-align: right;\n",
       "    }\n",
       "</style>\n",
       "<table border=\"1\" class=\"dataframe\">\n",
       "  <thead>\n",
       "    <tr style=\"text-align: right;\">\n",
       "      <th></th>\n",
       "      <th>beer_style</th>\n",
       "      <th>review_aroma</th>\n",
       "      <th>review_appearance</th>\n",
       "      <th>review_palate</th>\n",
       "      <th>review_taste</th>\n",
       "      <th>review_flag</th>\n",
       "      <th>alcohol_level</th>\n",
       "      <th>cluster</th>\n",
       "    </tr>\n",
       "    <tr>\n",
       "      <th>index</th>\n",
       "      <th></th>\n",
       "      <th></th>\n",
       "      <th></th>\n",
       "      <th></th>\n",
       "      <th></th>\n",
       "      <th></th>\n",
       "      <th></th>\n",
       "      <th></th>\n",
       "    </tr>\n",
       "  </thead>\n",
       "  <tbody>\n",
       "    <tr>\n",
       "      <th>585756</th>\n",
       "      <td>0.333333</td>\n",
       "      <td>0.875</td>\n",
       "      <td>0.8</td>\n",
       "      <td>0.750</td>\n",
       "      <td>0.750</td>\n",
       "      <td>0.666667</td>\n",
       "      <td>0.666667</td>\n",
       "      <td>3</td>\n",
       "    </tr>\n",
       "    <tr>\n",
       "      <th>1089084</th>\n",
       "      <td>0.333333</td>\n",
       "      <td>0.500</td>\n",
       "      <td>0.9</td>\n",
       "      <td>0.625</td>\n",
       "      <td>0.500</td>\n",
       "      <td>0.333333</td>\n",
       "      <td>0.666667</td>\n",
       "      <td>0</td>\n",
       "    </tr>\n",
       "    <tr>\n",
       "      <th>189841</th>\n",
       "      <td>0.333333</td>\n",
       "      <td>0.875</td>\n",
       "      <td>0.7</td>\n",
       "      <td>0.750</td>\n",
       "      <td>0.750</td>\n",
       "      <td>0.333333</td>\n",
       "      <td>0.666667</td>\n",
       "      <td>0</td>\n",
       "    </tr>\n",
       "    <tr>\n",
       "      <th>1433434</th>\n",
       "      <td>0.333333</td>\n",
       "      <td>0.625</td>\n",
       "      <td>0.8</td>\n",
       "      <td>0.750</td>\n",
       "      <td>0.625</td>\n",
       "      <td>0.333333</td>\n",
       "      <td>0.666667</td>\n",
       "      <td>0</td>\n",
       "    </tr>\n",
       "    <tr>\n",
       "      <th>1058657</th>\n",
       "      <td>0.333333</td>\n",
       "      <td>0.500</td>\n",
       "      <td>0.6</td>\n",
       "      <td>0.250</td>\n",
       "      <td>0.375</td>\n",
       "      <td>1.000000</td>\n",
       "      <td>0.666667</td>\n",
       "      <td>2</td>\n",
       "    </tr>\n",
       "  </tbody>\n",
       "</table>\n",
       "</div>"
      ],
      "text/plain": [
       "         beer_style  review_aroma  review_appearance  review_palate  \\\n",
       "index                                                                 \n",
       "585756     0.333333         0.875                0.8          0.750   \n",
       "1089084    0.333333         0.500                0.9          0.625   \n",
       "189841     0.333333         0.875                0.7          0.750   \n",
       "1433434    0.333333         0.625                0.8          0.750   \n",
       "1058657    0.333333         0.500                0.6          0.250   \n",
       "\n",
       "         review_taste  review_flag  alcohol_level  cluster  \n",
       "index                                                       \n",
       "585756          0.750     0.666667       0.666667        3  \n",
       "1089084         0.500     0.333333       0.666667        0  \n",
       "189841          0.750     0.333333       0.666667        0  \n",
       "1433434         0.625     0.333333       0.666667        0  \n",
       "1058657         0.375     1.000000       0.666667        2  "
      ]
     },
     "execution_count": 42,
     "metadata": {},
     "output_type": "execute_result"
    }
   ],
   "source": [
    "# Using k-means clustering to create 4 clusters\n",
    "kmeans_num = KMeans(n_clusters = 4, random_state = 42) # random state to keep consistent center selection (check documentation)\n",
    "\n",
    "# Creating a column to show cluster\n",
    "beer_reviews_top_styles_merged_numerical_scaled['cluster'] = kmeans_num.fit_predict(beer_reviews_top_styles_merged_numerical_scaled)\n",
    "beer_reviews_top_styles_merged_numerical_scaled.head()"
   ]
  },
  {
   "cell_type": "code",
   "execution_count": 43,
   "id": "30151ad6-8b6c-43a8-854e-09a0f385f83e",
   "metadata": {
    "id": "30151ad6-8b6c-43a8-854e-09a0f385f83e",
    "tags": []
   },
   "outputs": [],
   "source": [
    "# Adding the cluster column to the main dataframe\n",
    "beer_reviews_top_styles_merged['cluster'] = beer_reviews_top_styles_merged_numerical_scaled['cluster']"
   ]
  },
  {
   "cell_type": "markdown",
   "id": "8576b88c-64fb-4016-84f7-ca4c8973d1ab",
   "metadata": {
    "id": "8576b88c-64fb-4016-84f7-ca4c8973d1ab"
   },
   "source": [
    "# Final processed dataframe for profiling and analyzing clusters"
   ]
  },
  {
   "cell_type": "markdown",
   "id": "2119cb4d",
   "metadata": {
    "id": "2119cb4d"
   },
   "source": [
    "Our data, now, is all set for detailed analysis. We've grouped the data by clusters and found average scores for overall experience, taste, aroma, and palate.\n",
    "\n",
    "This helps us understand what customers prefer in each group.\n",
    "\n",
    "These insights are valuable for making smart business decisions, allowing us to tailor our beer offerings to meet specific tastes and expectations."
   ]
  },
  {
   "cell_type": "code",
   "execution_count": 44,
   "id": "b114fbb9-2c7b-4be4-9864-bfd52139dc8c",
   "metadata": {
    "id": "b114fbb9-2c7b-4be4-9864-bfd52139dc8c",
    "outputId": "50cbdceb-29dc-4d26-c334-292e36dad2f6",
    "tags": []
   },
   "outputs": [
    {
     "data": {
      "text/html": [
       "<div>\n",
       "<style scoped>\n",
       "    .dataframe tbody tr th:only-of-type {\n",
       "        vertical-align: middle;\n",
       "    }\n",
       "\n",
       "    .dataframe tbody tr th {\n",
       "        vertical-align: top;\n",
       "    }\n",
       "\n",
       "    .dataframe thead th {\n",
       "        text-align: right;\n",
       "    }\n",
       "</style>\n",
       "<table border=\"1\" class=\"dataframe\">\n",
       "  <thead>\n",
       "    <tr style=\"text-align: right;\">\n",
       "      <th></th>\n",
       "      <th>beer_style</th>\n",
       "      <th>brewery_id</th>\n",
       "      <th>brewery_name</th>\n",
       "      <th>review_overall</th>\n",
       "      <th>review_aroma</th>\n",
       "      <th>review_appearance</th>\n",
       "      <th>beer_style_y</th>\n",
       "      <th>review_palate</th>\n",
       "      <th>review_taste</th>\n",
       "      <th>beer_name</th>\n",
       "      <th>beer_abv</th>\n",
       "      <th>beer_beerid</th>\n",
       "      <th>review_flag</th>\n",
       "      <th>alcohol_level</th>\n",
       "      <th>cluster</th>\n",
       "    </tr>\n",
       "    <tr>\n",
       "      <th>index</th>\n",
       "      <th></th>\n",
       "      <th></th>\n",
       "      <th></th>\n",
       "      <th></th>\n",
       "      <th></th>\n",
       "      <th></th>\n",
       "      <th></th>\n",
       "      <th></th>\n",
       "      <th></th>\n",
       "      <th></th>\n",
       "      <th></th>\n",
       "      <th></th>\n",
       "      <th></th>\n",
       "      <th></th>\n",
       "      <th></th>\n",
       "    </tr>\n",
       "  </thead>\n",
       "  <tbody>\n",
       "    <tr>\n",
       "      <th>585756</th>\n",
       "      <td>American IPA</td>\n",
       "      <td>18564</td>\n",
       "      <td>Upslope Brewing Company</td>\n",
       "      <td>4.5</td>\n",
       "      <td>4.5</td>\n",
       "      <td>4.0</td>\n",
       "      <td>American IPA</td>\n",
       "      <td>4.0</td>\n",
       "      <td>4.0</td>\n",
       "      <td>Upslope India Pale Ale</td>\n",
       "      <td>7.2</td>\n",
       "      <td>46414</td>\n",
       "      <td>Good</td>\n",
       "      <td>Mild</td>\n",
       "      <td>3</td>\n",
       "    </tr>\n",
       "    <tr>\n",
       "      <th>1089084</th>\n",
       "      <td>American IPA</td>\n",
       "      <td>812</td>\n",
       "      <td>Marin Brewing Company</td>\n",
       "      <td>3.5</td>\n",
       "      <td>3.0</td>\n",
       "      <td>4.5</td>\n",
       "      <td>American IPA</td>\n",
       "      <td>3.5</td>\n",
       "      <td>3.0</td>\n",
       "      <td>Three Flowers</td>\n",
       "      <td>6.5</td>\n",
       "      <td>71854</td>\n",
       "      <td>Decent</td>\n",
       "      <td>Mild</td>\n",
       "      <td>0</td>\n",
       "    </tr>\n",
       "    <tr>\n",
       "      <th>189841</th>\n",
       "      <td>American IPA</td>\n",
       "      <td>2743</td>\n",
       "      <td>Green Flash Brewing Co.</td>\n",
       "      <td>4.0</td>\n",
       "      <td>4.5</td>\n",
       "      <td>3.5</td>\n",
       "      <td>American IPA</td>\n",
       "      <td>4.0</td>\n",
       "      <td>4.0</td>\n",
       "      <td>Green Flash West Coast I.P.A.</td>\n",
       "      <td>7.3</td>\n",
       "      <td>22505</td>\n",
       "      <td>Decent</td>\n",
       "      <td>Mild</td>\n",
       "      <td>0</td>\n",
       "    </tr>\n",
       "    <tr>\n",
       "      <th>1433434</th>\n",
       "      <td>American IPA</td>\n",
       "      <td>27016</td>\n",
       "      <td>Somerville Brewing Company (Slumbrew)</td>\n",
       "      <td>3.5</td>\n",
       "      <td>3.5</td>\n",
       "      <td>4.0</td>\n",
       "      <td>American IPA</td>\n",
       "      <td>4.0</td>\n",
       "      <td>3.5</td>\n",
       "      <td>Slumbrew Flagraiser IPA</td>\n",
       "      <td>7.5</td>\n",
       "      <td>74815</td>\n",
       "      <td>Decent</td>\n",
       "      <td>Mild</td>\n",
       "      <td>0</td>\n",
       "    </tr>\n",
       "    <tr>\n",
       "      <th>1058657</th>\n",
       "      <td>American IPA</td>\n",
       "      <td>200</td>\n",
       "      <td>Mendocino Brewing Company</td>\n",
       "      <td>2.0</td>\n",
       "      <td>3.0</td>\n",
       "      <td>3.0</td>\n",
       "      <td>American IPA</td>\n",
       "      <td>2.0</td>\n",
       "      <td>2.5</td>\n",
       "      <td>White Hawk Original IPA</td>\n",
       "      <td>7.0</td>\n",
       "      <td>4970</td>\n",
       "      <td>Poor</td>\n",
       "      <td>Mild</td>\n",
       "      <td>2</td>\n",
       "    </tr>\n",
       "    <tr>\n",
       "      <th>...</th>\n",
       "      <td>...</td>\n",
       "      <td>...</td>\n",
       "      <td>...</td>\n",
       "      <td>...</td>\n",
       "      <td>...</td>\n",
       "      <td>...</td>\n",
       "      <td>...</td>\n",
       "      <td>...</td>\n",
       "      <td>...</td>\n",
       "      <td>...</td>\n",
       "      <td>...</td>\n",
       "      <td>...</td>\n",
       "      <td>...</td>\n",
       "      <td>...</td>\n",
       "      <td>...</td>\n",
       "    </tr>\n",
       "    <tr>\n",
       "      <th>1346241</th>\n",
       "      <td>Belgian Strong Pale Ale</td>\n",
       "      <td>201</td>\n",
       "      <td>Brouwerij De Dolle Brouwers</td>\n",
       "      <td>5.0</td>\n",
       "      <td>4.0</td>\n",
       "      <td>5.0</td>\n",
       "      <td>Belgian Strong Pale Ale</td>\n",
       "      <td>4.5</td>\n",
       "      <td>4.5</td>\n",
       "      <td>De Dolle Arabier</td>\n",
       "      <td>8.0</td>\n",
       "      <td>633</td>\n",
       "      <td>Best</td>\n",
       "      <td>Mild</td>\n",
       "      <td>1</td>\n",
       "    </tr>\n",
       "    <tr>\n",
       "      <th>1345030</th>\n",
       "      <td>Belgian Strong Pale Ale</td>\n",
       "      <td>201</td>\n",
       "      <td>Brouwerij De Dolle Brouwers</td>\n",
       "      <td>4.5</td>\n",
       "      <td>4.5</td>\n",
       "      <td>4.0</td>\n",
       "      <td>Belgian Strong Pale Ale</td>\n",
       "      <td>4.0</td>\n",
       "      <td>4.5</td>\n",
       "      <td>De Dolle Bos Keun</td>\n",
       "      <td>10.0</td>\n",
       "      <td>634</td>\n",
       "      <td>Good</td>\n",
       "      <td>Mild</td>\n",
       "      <td>1</td>\n",
       "    </tr>\n",
       "    <tr>\n",
       "      <th>1563427</th>\n",
       "      <td>Belgian Strong Pale Ale</td>\n",
       "      <td>149</td>\n",
       "      <td>Brasserie Lefèbvre SA</td>\n",
       "      <td>4.5</td>\n",
       "      <td>4.0</td>\n",
       "      <td>4.5</td>\n",
       "      <td>Belgian Strong Pale Ale</td>\n",
       "      <td>4.5</td>\n",
       "      <td>4.5</td>\n",
       "      <td>Barbãr (Belgian Honey Ale)</td>\n",
       "      <td>8.0</td>\n",
       "      <td>612</td>\n",
       "      <td>Good</td>\n",
       "      <td>Mild</td>\n",
       "      <td>1</td>\n",
       "    </tr>\n",
       "    <tr>\n",
       "      <th>98851</th>\n",
       "      <td>Belgian Strong Pale Ale</td>\n",
       "      <td>183</td>\n",
       "      <td>Brouwerij Sterkens N.V.</td>\n",
       "      <td>4.0</td>\n",
       "      <td>4.0</td>\n",
       "      <td>4.0</td>\n",
       "      <td>Belgian Strong Pale Ale</td>\n",
       "      <td>4.0</td>\n",
       "      <td>4.0</td>\n",
       "      <td>Bokrijks Kruikenbier</td>\n",
       "      <td>6.9</td>\n",
       "      <td>589</td>\n",
       "      <td>Decent</td>\n",
       "      <td>Mild</td>\n",
       "      <td>1</td>\n",
       "    </tr>\n",
       "    <tr>\n",
       "      <th>1259887</th>\n",
       "      <td>Belgian Strong Pale Ale</td>\n",
       "      <td>112</td>\n",
       "      <td>North Coast Brewing Co.</td>\n",
       "      <td>5.0</td>\n",
       "      <td>4.0</td>\n",
       "      <td>4.0</td>\n",
       "      <td>Belgian Strong Pale Ale</td>\n",
       "      <td>5.0</td>\n",
       "      <td>5.0</td>\n",
       "      <td>Pranqster</td>\n",
       "      <td>7.6</td>\n",
       "      <td>411</td>\n",
       "      <td>Best</td>\n",
       "      <td>Mild</td>\n",
       "      <td>1</td>\n",
       "    </tr>\n",
       "  </tbody>\n",
       "</table>\n",
       "<p>542930 rows × 15 columns</p>\n",
       "</div>"
      ],
      "text/plain": [
       "                      beer_style  brewery_id  \\\n",
       "index                                          \n",
       "585756              American IPA       18564   \n",
       "1089084             American IPA         812   \n",
       "189841              American IPA        2743   \n",
       "1433434             American IPA       27016   \n",
       "1058657             American IPA         200   \n",
       "...                          ...         ...   \n",
       "1346241  Belgian Strong Pale Ale         201   \n",
       "1345030  Belgian Strong Pale Ale         201   \n",
       "1563427  Belgian Strong Pale Ale         149   \n",
       "98851    Belgian Strong Pale Ale         183   \n",
       "1259887  Belgian Strong Pale Ale         112   \n",
       "\n",
       "                                  brewery_name  review_overall  review_aroma  \\\n",
       "index                                                                          \n",
       "585756                 Upslope Brewing Company             4.5           4.5   \n",
       "1089084                  Marin Brewing Company             3.5           3.0   \n",
       "189841                 Green Flash Brewing Co.             4.0           4.5   \n",
       "1433434  Somerville Brewing Company (Slumbrew)             3.5           3.5   \n",
       "1058657              Mendocino Brewing Company             2.0           3.0   \n",
       "...                                        ...             ...           ...   \n",
       "1346241            Brouwerij De Dolle Brouwers             5.0           4.0   \n",
       "1345030            Brouwerij De Dolle Brouwers             4.5           4.5   \n",
       "1563427                  Brasserie Lefèbvre SA             4.5           4.0   \n",
       "98851                  Brouwerij Sterkens N.V.             4.0           4.0   \n",
       "1259887                North Coast Brewing Co.             5.0           4.0   \n",
       "\n",
       "         review_appearance             beer_style_y  review_palate  \\\n",
       "index                                                                \n",
       "585756                 4.0             American IPA            4.0   \n",
       "1089084                4.5             American IPA            3.5   \n",
       "189841                 3.5             American IPA            4.0   \n",
       "1433434                4.0             American IPA            4.0   \n",
       "1058657                3.0             American IPA            2.0   \n",
       "...                    ...                      ...            ...   \n",
       "1346241                5.0  Belgian Strong Pale Ale            4.5   \n",
       "1345030                4.0  Belgian Strong Pale Ale            4.0   \n",
       "1563427                4.5  Belgian Strong Pale Ale            4.5   \n",
       "98851                  4.0  Belgian Strong Pale Ale            4.0   \n",
       "1259887                4.0  Belgian Strong Pale Ale            5.0   \n",
       "\n",
       "         review_taste                      beer_name  beer_abv  beer_beerid  \\\n",
       "index                                                                         \n",
       "585756            4.0         Upslope India Pale Ale       7.2        46414   \n",
       "1089084           3.0                  Three Flowers       6.5        71854   \n",
       "189841            4.0  Green Flash West Coast I.P.A.       7.3        22505   \n",
       "1433434           3.5        Slumbrew Flagraiser IPA       7.5        74815   \n",
       "1058657           2.5        White Hawk Original IPA       7.0         4970   \n",
       "...               ...                            ...       ...          ...   \n",
       "1346241           4.5               De Dolle Arabier       8.0          633   \n",
       "1345030           4.5              De Dolle Bos Keun      10.0          634   \n",
       "1563427           4.5     Barbãr (Belgian Honey Ale)       8.0          612   \n",
       "98851             4.0           Bokrijks Kruikenbier       6.9          589   \n",
       "1259887           5.0                      Pranqster       7.6          411   \n",
       "\n",
       "        review_flag alcohol_level  cluster  \n",
       "index                                       \n",
       "585756         Good          Mild        3  \n",
       "1089084      Decent          Mild        0  \n",
       "189841       Decent          Mild        0  \n",
       "1433434      Decent          Mild        0  \n",
       "1058657        Poor          Mild        2  \n",
       "...             ...           ...      ...  \n",
       "1346241        Best          Mild        1  \n",
       "1345030        Good          Mild        1  \n",
       "1563427        Good          Mild        1  \n",
       "98851        Decent          Mild        1  \n",
       "1259887        Best          Mild        1  \n",
       "\n",
       "[542930 rows x 15 columns]"
      ]
     },
     "execution_count": 44,
     "metadata": {},
     "output_type": "execute_result"
    }
   ],
   "source": [
    "# Final processed dataframe for profiling and analyzing clusters\n",
    "beer_reviews_top_styles_merged"
   ]
  },
  {
   "cell_type": "code",
   "execution_count": 45,
   "id": "be1e2eb6-86e9-4642-8ea4-aa73145c447b",
   "metadata": {
    "id": "be1e2eb6-86e9-4642-8ea4-aa73145c447b",
    "outputId": "bf3fadde-b8ff-4516-8cdf-1f426629aa8c",
    "tags": []
   },
   "outputs": [
    {
     "data": {
      "text/plain": [
       "cluster\n",
       "0    3.984909\n",
       "1    4.057656\n",
       "2    2.655130\n",
       "3    4.390962\n",
       "Name: review_overall, dtype: float64"
      ]
     },
     "execution_count": 45,
     "metadata": {},
     "output_type": "execute_result"
    }
   ],
   "source": [
    "# Determining average overall review for each cluster\n",
    "beer_reviews_top_styles_merged.groupby('cluster')['review_overall'].mean()"
   ]
  },
  {
   "cell_type": "code",
   "execution_count": 46,
   "id": "fcb7e6c1-698b-48b3-9dff-1bccc5795322",
   "metadata": {
    "id": "fcb7e6c1-698b-48b3-9dff-1bccc5795322",
    "outputId": "a9cc87aa-caa1-4949-935d-6b313b7f0e48",
    "tags": []
   },
   "outputs": [
    {
     "data": {
      "text/plain": [
       "cluster\n",
       "0    3.992103\n",
       "1    4.108289\n",
       "2    2.809361\n",
       "3    4.316959\n",
       "Name: review_taste, dtype: float64"
      ]
     },
     "execution_count": 46,
     "metadata": {},
     "output_type": "execute_result"
    }
   ],
   "source": [
    "# Determining average taste score for each cluster\n",
    "beer_reviews_top_styles_merged.groupby('cluster')['review_taste'].mean()"
   ]
  },
  {
   "cell_type": "code",
   "execution_count": 47,
   "id": "a7296bf4-bc7f-4fbd-ad73-7a0c69731fc1",
   "metadata": {
    "id": "a7296bf4-bc7f-4fbd-ad73-7a0c69731fc1",
    "outputId": "2e142463-e1b3-4ac8-eaca-cf274ff5881f",
    "tags": []
   },
   "outputs": [
    {
     "data": {
      "text/plain": [
       "cluster\n",
       "0    3.939001\n",
       "1    4.018157\n",
       "2    3.111896\n",
       "3    4.203585\n",
       "Name: review_aroma, dtype: float64"
      ]
     },
     "execution_count": 47,
     "metadata": {},
     "output_type": "execute_result"
    }
   ],
   "source": [
    "# Determining average aroma score for each cluster\n",
    "beer_reviews_top_styles_merged.groupby('cluster')['review_aroma'].mean()"
   ]
  },
  {
   "cell_type": "code",
   "execution_count": 48,
   "id": "47f2dd20-af61-4779-bb99-b5d1deca18ea",
   "metadata": {
    "id": "47f2dd20-af61-4779-bb99-b5d1deca18ea",
    "outputId": "9b759b6e-1289-4183-a1ab-88143e378f39",
    "scrolled": true,
    "tags": []
   },
   "outputs": [
    {
     "data": {
      "text/plain": [
       "cluster\n",
       "0    3.916654\n",
       "1    4.004568\n",
       "2    2.979830\n",
       "3    4.186596\n",
       "Name: review_palate, dtype: float64"
      ]
     },
     "execution_count": 48,
     "metadata": {},
     "output_type": "execute_result"
    }
   ],
   "source": [
    "# Determining average palate score for each cluster\n",
    "beer_reviews_top_styles_merged.groupby('cluster')['review_palate'].mean()"
   ]
  },
  {
   "cell_type": "code",
   "execution_count": 49,
   "id": "ba71cd44-2113-43fb-b6c1-b8a1894f63f3",
   "metadata": {
    "tags": []
   },
   "outputs": [
    {
     "data": {
      "text/plain": [
       "cluster  review_flag\n",
       "0        Poor                0\n",
       "         Decent         192435\n",
       "         Good                0\n",
       "         Best            26267\n",
       "1        Poor              912\n",
       "         Decent         110002\n",
       "         Good            33664\n",
       "         Best            10627\n",
       "2        Poor            66852\n",
       "         Decent            148\n",
       "         Good              898\n",
       "         Best                0\n",
       "3        Poor             6825\n",
       "         Decent              0\n",
       "         Good            94300\n",
       "         Best                0\n",
       "Name: review_overall, dtype: int64"
      ]
     },
     "execution_count": 49,
     "metadata": {},
     "output_type": "execute_result"
    }
   ],
   "source": [
    "beer_reviews_top_styles_merged.groupby(['cluster','review_flag'])['review_overall'].count()"
   ]
  },
  {
   "cell_type": "markdown",
   "id": "f8cbfaba-0ad3-4937-9fd8-523eab74b2b1",
   "metadata": {
    "tags": []
   },
   "source": [
    "## Profiling Of The Clusters"
   ]
  },
  {
   "cell_type": "markdown",
   "id": "c0a6ede5-7f6f-4ffc-88ae-ba83db6ed4a9",
   "metadata": {},
   "source": [
    "### Cluster 1\n",
    "\n",
    "* 3<sup>rd</sup> in overall, appearance, palate, taste scores\n",
    "* 3<sup>rd</sup> in alcohol by volume %\n",
    "* Mostly consists of beers that can be considered decent"
   ]
  },
  {
   "cell_type": "markdown",
   "id": "9a366d1b-4ee3-4df8-9676-f6aff21b1a5b",
   "metadata": {},
   "source": [
    "### Cluster 0\n",
    "\n",
    "* 2<sup>nd</sup> in overall, appearance, palate, taste scores\n",
    "* 2<sup>nd</sup> in alcohol by volume %\n",
    "* These are beers that were also well received by the consumers on average. However, they also consist a high proportion of decent beers, brining the average overall score down"
   ]
  },
  {
   "cell_type": "markdown",
   "id": "081d0099-71b2-4f61-8555-4861de0bdad2",
   "metadata": {},
   "source": [
    "### Cluster 2 (Lowest overall score)\n",
    "\n",
    "* 4<sup>th</sup> in overall, appearance, palate, taste scores\n",
    "* 4<sup>th</sup> in alcohol by volume %\n",
    "* Mostly consists of beers that were considered poor"
   ]
  },
  {
   "cell_type": "markdown",
   "id": "4de88b99-6937-4acc-b04b-12176a2174ce",
   "metadata": {},
   "source": [
    "### Cluster 3 (Highest overall score)\n",
    "\n",
    "* 1<sup>st</sup> in overall, appearance, palate, taste scores\n",
    "* 1<sup>st</sup> in alcohol by volume %\n",
    "* These are beers that were most well received by the consumers on average"
   ]
  },
  {
   "cell_type": "markdown",
   "id": "229dcd8e",
   "metadata": {
    "id": "229dcd8e"
   },
   "source": [
    "\n",
    "Recognizing this distribution is essential for customizing business strategies and identifying varied customer preferences."
   ]
  },
  {
   "cell_type": "markdown",
   "id": "17b31e70-7784-429e-ac4c-957ce302a473",
   "metadata": {
    "id": "17b31e70-7784-429e-ac4c-957ce302a473"
   },
   "source": [
    "## __Data Analysis__:"
   ]
  },
  {
   "cell_type": "markdown",
   "id": "925f18d2-4214-4267-a03e-d5b0cab46725",
   "metadata": {
    "tags": []
   },
   "source": [
    "\n",
    "### What features significantly contribute to a beer's success as a brand? Can we pinpoint factors leading to poor reception of a beer brand?"
   ]
  },
  {
   "cell_type": "code",
   "execution_count": 50,
   "id": "dfe5f628-567f-4a51-8f78-7dd1f5fbdb04",
   "metadata": {
    "tags": []
   },
   "outputs": [
    {
     "data": {
      "image/png": "[encoded data removed]",
      "text/plain": [
       "<Figure size 1200x600 with 1 Axes>"
      ]
     },
     "metadata": {},
     "output_type": "display_data"
    }
   ],
   "source": [
    "# Box Plot\n",
    "plt.figure(figsize=(12, 6))\n",
    "sns.boxplot(x='variable', y='value', hue='cluster', data=pd.melt(beer_reviews_top_styles_merged, id_vars='cluster',\n",
    "                                                                value_vars=['review_aroma', 'review_appearance', 'review_palate', 'review_taste']),\n",
    "            palette='coolwarm')\n",
    "plt.title('Distribution of Review Scores for Each Feature by Cluster')\n",
    "plt.xlabel('Review Categories')\n",
    "plt.ylabel('Review Scores')\n",
    "plt.show()\n"
   ]
  },
  {
   "cell_type": "markdown",
   "id": "f40214f4-5746-44dd-b8c7-fcf63f15d413",
   "metadata": {},
   "source": [
    "### Observations \n",
    "\n",
    "\n",
    "- By analyzing the distribution of review scores for each feature by cluster, the average review score for cluster 2 is around 3, which is significantally lower than the rest.\n",
    "- Safe to say that belonging to this cluster would mean that the beer or it's maker is likely to be poorly perceived. Lets's dub this the **'Infamous Cluster'**.\n",
    "- While the rest of the clusters seem similar, we can notice that Cluster #3, does not have it's lower quantile go below 4 in any of the 4 metrics. We believe that it is the best cluster.\n",
    "- From analyzing the 4 different review categories, we find that in those clusters, review_appearance and reveiw_taste have the high review scores compared to the other two. "
   ]
  },
  {
   "cell_type": "markdown",
   "id": "e6f8e2db-eea5-4249-aa93-92c27934da27",
   "metadata": {
    "tags": []
   },
   "source": [
    "### Which beer styles consistently resonate with consumers?"
   ]
  },
  {
   "cell_type": "code",
   "execution_count": 51,
   "id": "cb454be3-2a40-4f97-96f7-fa9dc92be285",
   "metadata": {
    "tags": []
   },
   "outputs": [
    {
     "data": {
      "image/png": "[encoded data removed]",
      "text/plain": [
       "<Figure size 1600x800 with 1 Axes>"
      ]
     },
     "metadata": {},
     "output_type": "display_data"
    }
   ],
   "source": [
    "# Count plot for distribution of beer styles by cluster with custom color palette and improved spacing\n",
    "custom_palette = sns.color_palette(\"Set3\", n_colors=4)  # You can choose any other color palette\n",
    "\n",
    "plt.figure(figsize=(16, 8))\n",
    "sns.countplot(x='beer_style', hue='cluster', data=beer_reviews_top_styles_merged, palette=custom_palette)\n",
    "plt.title('Distribution of Beer Styles by Cluster')\n",
    "plt.xlabel('Beer Style')\n",
    "plt.ylabel('Count')\n",
    "plt.xticks(rotation=45, ha='right', fontsize=10)  # Rotate x-axis labels and set font size\n",
    "plt.legend(title='Cluster', loc='upper right')\n",
    "plt.tight_layout()  # Improve layout for better spacing\n",
    "plt.show()\n"
   ]
  },
  {
   "cell_type": "markdown",
   "id": "16fe5c30-9ba7-4de6-a61f-d087d8cc5179",
   "metadata": {},
   "source": [
    "### Observations\n",
    "\n",
    "\n",
    "- After closely examining the distribution of beer styles in different clusters, we found that cluster 0 primarily features the top three beer styles: American IPA, American Double/Imperial IPA, and American Pale Ale.\n",
    "- It is evident that 'American IPA' and 'Fruit / Vegetable Beer' are more prevalent in the 'infamous' cluster. However, 'American IPA' is not as dominant in the 'infamous' cluster compared to its significant presence in the better clusters. \n",
    "- In contrast, 'Fruit / Vegetable Beer' is notably prominent in the 'infamous' cluster but less so in the other clusters.\n",
    "- Furthermore, Cluster 2 consistently exhibits the lowest average number of reviews, always falling below 10k. This aligns with our observation that beers in Cluster 2 tend to receive less favorable reviews across various beer styles.\n",
    "\n"
   ]
  },
  {
   "cell_type": "markdown",
   "id": "0d08208d-3ee2-4216-841f-c4cd20c3b420",
   "metadata": {},
   "source": [
    "### Inferences\n",
    "- American IPA's popularity could be attributed to widespread consumer preference for its distinctive bitter profile and the use of American hop varieties, offering citrus, pine, and floral notes. These flavor characteristics align with current market trends.\n",
    "- Vegetable Juice beer's lower ranking might be explained by challenges in achieving a universally appealing taste with vegetable ingredients. \n",
    "- The diversity of vegetables used can result in varied and potentially polarizing flavors, impacting the beer's overall acceptance.\n",
    "- Vegetable Juice beer, being an unconventional style, may face resistance due to consumers' unfamiliarity with or hesitancy to try beverages incorporating vegetable juices. \n",
    "- This experimental nature could lead to a less favorable reception in comparison to more established styles.\n",
    "\n",
    "\n"
   ]
  },
  {
   "cell_type": "markdown",
   "id": "5a41330f-2257-49e3-8e89-24d2c2e406e8",
   "metadata": {
    "id": "5a41330f-2257-49e3-8e89-24d2c2e406e8",
    "tags": []
   },
   "source": [
    "## __Conclusion__"
   ]
  },
  {
   "cell_type": "markdown",
   "id": "d20bd7c4-410b-4c0c-b894-bf7a71113b94",
   "metadata": {
    "id": "d20bd7c4-410b-4c0c-b894-bf7a71113b94"
   },
   "source": [
    "- What we did: Through this analysis, we aimed to identify the extent to which each attribute of a beer affects its reception by consumers. We wanted to identify the beer styles that resonated consistently with them and how the characteristics varied across segments of beers, ultimately providing insights regarding their success and failure in the market.\n",
    "\n",
    "\n",
    "- Why does it matter: Through data-driven insights, breweries gain a nuanced understanding of consumer preferences, allowing them to craft beers aligned with market desires. By tailoring offerings to suit popular beer styles and preferred alcohol content, breweries enhance their product relevance, \n",
    "meeting consumer demands more effectively. This alignment with consumer tastes fosters heightened satisfaction among beer enthusiasts, leading to increased brand loyalty. Moreover, pinpointing areas for quality enhancement based on analysis empowers breweries to refine their products, further augmenting consumer experience. Ultimately, this strategic utilization of insights not only elevates customer satisfaction but also fortifies brand loyalty by consistently delivering beers that resonate with the evolving preferences of their audience.\n",
    "\n",
    "\n",
    "\n",
    "- What can we do differently ahead: The sheer number of breweries present, about 5600, and the beer styles, which were 104 in number, made it very difficult to work with. Incorporating them into our clustering would be more helpful in profiling beer styles and breweries through clustering. But in its current state, we need more computational resources to consider them all for clustering. More domain knowledge and additional brewery data could help narrow the number of categorical variables to a more computationally feasible number.\n"
   ]
  },
  {
   "cell_type": "markdown",
   "id": "7a9f785e-268b-496b-855b-ab3ae90d45cd",
   "metadata": {},
   "source": [
    "### Cheers to the search for the perfect pint!"
   ]
  },
  {
   "cell_type": "markdown",
   "id": "591f341c-d317-40bb-bd36-1030f3b9e55c",
   "metadata": {
    "id": "591f341c-d317-40bb-bd36-1030f3b9e55c"
   },
   "source": [
    "## References:"
   ]
  },
  {
   "cell_type": "markdown",
   "id": "6c409ee7-ea11-4e90-83f5-cf1635179a69",
   "metadata": {
    "id": "6c409ee7-ea11-4e90-83f5-cf1635179a69"
   },
   "source": [
    "- [1] Image: Insider - https://www.insider.com/quiz-to-find-out-what-type-of-beer-to-drink-2019-4\n",
    "- [2] Dataset: Kaggle - https://www.kaggle.com/datasets/thedevastator/1-5-million-beer-reviews-from-beer-advocate/data\n",
    "- [3] Beer Information- https://www.craftbeer.com/beer-styles"
   ]
  }
 ],
 "metadata": {
  "colab": {
   "provenance": []
  },
  "kernelspec": {
   "display_name": "Python 3 (ipykernel)",
   "language": "python",
   "name": "python3"
  },
  "language_info": {
   "codemirror_mode": {
    "name": "ipython",
    "version": 3
   },
   "file_extension": ".py",
   "mimetype": "text/x-python",
   "name": "python",
   "nbconvert_exporter": "python",
   "pygments_lexer": "ipython3",
   "version": "3.11.4"
  },
  "toc-autonumbering": true
 },
 "nbformat": 4,
 "nbformat_minor": 5
}
